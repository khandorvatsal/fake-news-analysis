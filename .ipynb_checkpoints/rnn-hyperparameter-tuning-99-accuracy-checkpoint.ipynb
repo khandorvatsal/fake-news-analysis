{
 "cells": [
  {
   "cell_type": "code",
   "execution_count": 1,
   "id": "saving-necklace",
   "metadata": {
    "execution": {
     "iopub.execute_input": "2021-05-16T15:43:15.250275Z",
     "iopub.status.busy": "2021-05-16T15:43:15.248545Z",
     "iopub.status.idle": "2021-05-16T15:43:24.094668Z",
     "shell.execute_reply": "2021-05-16T15:43:24.093991Z"
    },
    "papermill": {
     "duration": 8.907367,
     "end_time": "2021-05-16T15:43:24.094809",
     "exception": false,
     "start_time": "2021-05-16T15:43:15.187442",
     "status": "completed"
    },
    "tags": []
   },
   "outputs": [],
   "source": [
    "# This Python 3 environment comes with many helpful analytics libraries installed\n",
    "# It is defined by the kaggle/python Docker image: https://github.com/kaggle/docker-python\n",
    "# For example, here's several helpful packages to load\n",
    "\n",
    "import numpy as np # linear algebra\n",
    "import pandas as pd # data processing, CSV file I/O (e.g. pd.read_csv)\n",
    "import matplotlib.pyplot as plt\n",
    "import seaborn as sns\n",
    "from nltk.stem import PorterStemmer\n",
    "import re\n",
    "from nltk.corpus import stopwords\n",
    "from wordcloud import WordCloud\n",
    "from keras.preprocessing.text import Tokenizer\n",
    "from keras.preprocessing.sequence import pad_sequences\n",
    "import tensorflow as tf\n",
    "from tensorflow.keras.layers import Embedding\n",
    "from tensorflow.keras.preprocessing.sequence import pad_sequences\n",
    "from tensorflow.keras.models import Sequential\n",
    "from tensorflow.keras.layers import LSTM\n",
    "from tensorflow.keras.layers import Dense\n",
    "from tensorflow.keras.layers import Dropout\n",
    "from keras.wrappers.scikit_learn import KerasClassifier\n",
    "from keras.callbacks import EarlyStopping\n",
    "from sklearn.model_selection import RandomizedSearchCV\n",
    "from keras.optimizers import Adam\n",
    "from sklearn.model_selection import KFold\n",
    "from sklearn.model_selection import train_test_split\n",
    "from keras.callbacks import ReduceLROnPlateau\n",
    "from sklearn.metrics import confusion_matrix\n",
    "from sklearn.metrics import classification_report\n",
    "# Input data files are available in the read-only \"../input/\" directory\n",
    "# For example, running this (by clicking run or pressing Shift+Enter) will list all files under the input directory\n",
    "\n",
    "import os\n",
    "for dirname, _, filenames in os.walk('/kaggle/input'):\n",
    "    for filename in filenames:\n",
    "        print(os.path.join(dirname, filename))\n",
    "\n",
    "# You can write up to 20GB to the current directory (/kaggle/working/) that gets preserved as output when you create a version using \"Save & Run All\" \n",
    "# You can also write temporary files to /kaggle/temp/, but they won't be saved outside of the current session"
   ]
  },
  {
   "cell_type": "code",
   "execution_count": 2,
   "id": "australian-advocate",
   "metadata": {
    "execution": {
     "iopub.execute_input": "2021-05-16T15:43:24.208492Z",
     "iopub.status.busy": "2021-05-16T15:43:24.207630Z",
     "iopub.status.idle": "2021-05-16T15:43:27.933796Z",
     "shell.execute_reply": "2021-05-16T15:43:27.933220Z"
    },
    "papermill": {
     "duration": 3.78487,
     "end_time": "2021-05-16T15:43:27.933936",
     "exception": false,
     "start_time": "2021-05-16T15:43:24.149066",
     "status": "completed"
    },
    "tags": []
   },
   "outputs": [],
   "source": [
    "df_train = pd.read_csv('fake-news/train.csv')\n",
    "df_test = pd.read_csv('fake-news/test.csv')"
   ]
  },
  {
   "cell_type": "code",
   "execution_count": 3,
   "id": "raising-following",
   "metadata": {
    "execution": {
     "iopub.execute_input": "2021-05-16T15:43:28.055022Z",
     "iopub.status.busy": "2021-05-16T15:43:28.054016Z",
     "iopub.status.idle": "2021-05-16T15:43:28.076300Z",
     "shell.execute_reply": "2021-05-16T15:43:28.077437Z"
    },
    "papermill": {
     "duration": 0.089628,
     "end_time": "2021-05-16T15:43:28.077645",
     "exception": false,
     "start_time": "2021-05-16T15:43:27.988017",
     "status": "completed"
    },
    "tags": []
   },
   "outputs": [
    {
     "data": {
      "text/html": [
       "<div>\n",
       "<style scoped>\n",
       "    .dataframe tbody tr th:only-of-type {\n",
       "        vertical-align: middle;\n",
       "    }\n",
       "\n",
       "    .dataframe tbody tr th {\n",
       "        vertical-align: top;\n",
       "    }\n",
       "\n",
       "    .dataframe thead th {\n",
       "        text-align: right;\n",
       "    }\n",
       "</style>\n",
       "<table border=\"1\" class=\"dataframe\">\n",
       "  <thead>\n",
       "    <tr style=\"text-align: right;\">\n",
       "      <th></th>\n",
       "      <th>id</th>\n",
       "      <th>title</th>\n",
       "      <th>author</th>\n",
       "      <th>text</th>\n",
       "      <th>label</th>\n",
       "    </tr>\n",
       "  </thead>\n",
       "  <tbody>\n",
       "    <tr>\n",
       "      <th>0</th>\n",
       "      <td>0</td>\n",
       "      <td>House Dem Aide: We Didn’t Even See Comey’s Let...</td>\n",
       "      <td>Darrell Lucus</td>\n",
       "      <td>House Dem Aide: We Didn’t Even See Comey’s Let...</td>\n",
       "      <td>1</td>\n",
       "    </tr>\n",
       "    <tr>\n",
       "      <th>1</th>\n",
       "      <td>1</td>\n",
       "      <td>FLYNN: Hillary Clinton, Big Woman on Campus - ...</td>\n",
       "      <td>Daniel J. Flynn</td>\n",
       "      <td>Ever get the feeling your life circles the rou...</td>\n",
       "      <td>0</td>\n",
       "    </tr>\n",
       "    <tr>\n",
       "      <th>2</th>\n",
       "      <td>2</td>\n",
       "      <td>Why the Truth Might Get You Fired</td>\n",
       "      <td>Consortiumnews.com</td>\n",
       "      <td>Why the Truth Might Get You Fired October 29, ...</td>\n",
       "      <td>1</td>\n",
       "    </tr>\n",
       "  </tbody>\n",
       "</table>\n",
       "</div>"
      ],
      "text/plain": [
       "   id                                              title              author  \\\n",
       "0   0  House Dem Aide: We Didn’t Even See Comey’s Let...       Darrell Lucus   \n",
       "1   1  FLYNN: Hillary Clinton, Big Woman on Campus - ...     Daniel J. Flynn   \n",
       "2   2                  Why the Truth Might Get You Fired  Consortiumnews.com   \n",
       "\n",
       "                                                text  label  \n",
       "0  House Dem Aide: We Didn’t Even See Comey’s Let...      1  \n",
       "1  Ever get the feeling your life circles the rou...      0  \n",
       "2  Why the Truth Might Get You Fired October 29, ...      1  "
      ]
     },
     "execution_count": 3,
     "metadata": {},
     "output_type": "execute_result"
    }
   ],
   "source": [
    "df_train.head(3)"
   ]
  },
  {
   "cell_type": "code",
   "execution_count": 4,
   "id": "instant-canada",
   "metadata": {
    "execution": {
     "iopub.execute_input": "2021-05-16T15:43:28.190573Z",
     "iopub.status.busy": "2021-05-16T15:43:28.189513Z",
     "iopub.status.idle": "2021-05-16T15:43:28.201635Z",
     "shell.execute_reply": "2021-05-16T15:43:28.202126Z"
    },
    "papermill": {
     "duration": 0.070353,
     "end_time": "2021-05-16T15:43:28.202329",
     "exception": false,
     "start_time": "2021-05-16T15:43:28.131976",
     "status": "completed"
    },
    "tags": []
   },
   "outputs": [
    {
     "data": {
      "text/html": [
       "<div>\n",
       "<style scoped>\n",
       "    .dataframe tbody tr th:only-of-type {\n",
       "        vertical-align: middle;\n",
       "    }\n",
       "\n",
       "    .dataframe tbody tr th {\n",
       "        vertical-align: top;\n",
       "    }\n",
       "\n",
       "    .dataframe thead th {\n",
       "        text-align: right;\n",
       "    }\n",
       "</style>\n",
       "<table border=\"1\" class=\"dataframe\">\n",
       "  <thead>\n",
       "    <tr style=\"text-align: right;\">\n",
       "      <th></th>\n",
       "      <th>id</th>\n",
       "      <th>title</th>\n",
       "      <th>author</th>\n",
       "      <th>text</th>\n",
       "    </tr>\n",
       "  </thead>\n",
       "  <tbody>\n",
       "    <tr>\n",
       "      <th>0</th>\n",
       "      <td>20800</td>\n",
       "      <td>Specter of Trump Loosens Tongues, if Not Purse...</td>\n",
       "      <td>David Streitfeld</td>\n",
       "      <td>PALO ALTO, Calif.  —   After years of scorning...</td>\n",
       "    </tr>\n",
       "    <tr>\n",
       "      <th>1</th>\n",
       "      <td>20801</td>\n",
       "      <td>Russian warships ready to strike terrorists ne...</td>\n",
       "      <td>NaN</td>\n",
       "      <td>Russian warships ready to strike terrorists ne...</td>\n",
       "    </tr>\n",
       "    <tr>\n",
       "      <th>2</th>\n",
       "      <td>20802</td>\n",
       "      <td>#NoDAPL: Native American Leaders Vow to Stay A...</td>\n",
       "      <td>Common Dreams</td>\n",
       "      <td>Videos #NoDAPL: Native American Leaders Vow to...</td>\n",
       "    </tr>\n",
       "  </tbody>\n",
       "</table>\n",
       "</div>"
      ],
      "text/plain": [
       "      id                                              title            author  \\\n",
       "0  20800  Specter of Trump Loosens Tongues, if Not Purse...  David Streitfeld   \n",
       "1  20801  Russian warships ready to strike terrorists ne...               NaN   \n",
       "2  20802  #NoDAPL: Native American Leaders Vow to Stay A...     Common Dreams   \n",
       "\n",
       "                                                text  \n",
       "0  PALO ALTO, Calif.  —   After years of scorning...  \n",
       "1  Russian warships ready to strike terrorists ne...  \n",
       "2  Videos #NoDAPL: Native American Leaders Vow to...  "
      ]
     },
     "execution_count": 4,
     "metadata": {},
     "output_type": "execute_result"
    }
   ],
   "source": [
    "df_test.head(3)"
   ]
  },
  {
   "cell_type": "code",
   "execution_count": 5,
   "id": "offensive-lottery",
   "metadata": {
    "execution": {
     "iopub.execute_input": "2021-05-16T15:43:28.321149Z",
     "iopub.status.busy": "2021-05-16T15:43:28.320200Z",
     "iopub.status.idle": "2021-05-16T15:43:28.353470Z",
     "shell.execute_reply": "2021-05-16T15:43:28.354026Z"
    },
    "papermill": {
     "duration": 0.096011,
     "end_time": "2021-05-16T15:43:28.354249",
     "exception": false,
     "start_time": "2021-05-16T15:43:28.258238",
     "status": "completed"
    },
    "tags": []
   },
   "outputs": [
    {
     "name": "stdout",
     "output_type": "stream",
     "text": [
      "<class 'pandas.core.frame.DataFrame'>\n",
      "RangeIndex: 20800 entries, 0 to 20799\n",
      "Data columns (total 5 columns):\n",
      " #   Column  Non-Null Count  Dtype \n",
      "---  ------  --------------  ----- \n",
      " 0   id      20800 non-null  int64 \n",
      " 1   title   20242 non-null  object\n",
      " 2   author  18843 non-null  object\n",
      " 3   text    20761 non-null  object\n",
      " 4   label   20800 non-null  int64 \n",
      "dtypes: int64(2), object(3)\n",
      "memory usage: 812.6+ KB\n"
     ]
    }
   ],
   "source": [
    "df_train.info()"
   ]
  },
  {
   "cell_type": "code",
   "execution_count": 6,
   "id": "narrow-humidity",
   "metadata": {
    "execution": {
     "iopub.execute_input": "2021-05-16T15:43:28.486195Z",
     "iopub.status.busy": "2021-05-16T15:43:28.477565Z",
     "iopub.status.idle": "2021-05-16T15:43:28.490378Z",
     "shell.execute_reply": "2021-05-16T15:43:28.489830Z"
    },
    "papermill": {
     "duration": 0.078414,
     "end_time": "2021-05-16T15:43:28.490776",
     "exception": false,
     "start_time": "2021-05-16T15:43:28.412362",
     "status": "completed"
    },
    "tags": []
   },
   "outputs": [
    {
     "name": "stdout",
     "output_type": "stream",
     "text": [
      "<class 'pandas.core.frame.DataFrame'>\n",
      "RangeIndex: 5200 entries, 0 to 5199\n",
      "Data columns (total 4 columns):\n",
      " #   Column  Non-Null Count  Dtype \n",
      "---  ------  --------------  ----- \n",
      " 0   id      5200 non-null   int64 \n",
      " 1   title   5078 non-null   object\n",
      " 2   author  4697 non-null   object\n",
      " 3   text    5193 non-null   object\n",
      "dtypes: int64(1), object(3)\n",
      "memory usage: 162.6+ KB\n"
     ]
    }
   ],
   "source": [
    "df_test.info()"
   ]
  },
  {
   "cell_type": "code",
   "execution_count": 7,
   "id": "dental-fourth",
   "metadata": {
    "execution": {
     "iopub.execute_input": "2021-05-16T15:43:28.625006Z",
     "iopub.status.busy": "2021-05-16T15:43:28.623843Z",
     "iopub.status.idle": "2021-05-16T15:43:28.632348Z",
     "shell.execute_reply": "2021-05-16T15:43:28.631690Z"
    },
    "papermill": {
     "duration": 0.080268,
     "end_time": "2021-05-16T15:43:28.632499",
     "exception": false,
     "start_time": "2021-05-16T15:43:28.552231",
     "status": "completed"
    },
    "tags": []
   },
   "outputs": [
    {
     "data": {
      "text/plain": [
       "id           0\n",
       "title      558\n",
       "author    1957\n",
       "text        39\n",
       "label        0\n",
       "dtype: int64"
      ]
     },
     "execution_count": 7,
     "metadata": {},
     "output_type": "execute_result"
    }
   ],
   "source": [
    "df_train.isna().sum()"
   ]
  },
  {
   "cell_type": "code",
   "execution_count": 8,
   "id": "immune-expression",
   "metadata": {
    "execution": {
     "iopub.execute_input": "2021-05-16T15:43:28.753773Z",
     "iopub.status.busy": "2021-05-16T15:43:28.752948Z",
     "iopub.status.idle": "2021-05-16T15:43:28.756142Z",
     "shell.execute_reply": "2021-05-16T15:43:28.756632Z"
    },
    "papermill": {
     "duration": 0.06907,
     "end_time": "2021-05-16T15:43:28.756824",
     "exception": false,
     "start_time": "2021-05-16T15:43:28.687754",
     "status": "completed"
    },
    "tags": []
   },
   "outputs": [
    {
     "data": {
      "text/plain": [
       "id          0\n",
       "title     122\n",
       "author    503\n",
       "text        7\n",
       "dtype: int64"
      ]
     },
     "execution_count": 8,
     "metadata": {},
     "output_type": "execute_result"
    }
   ],
   "source": [
    "df_test.isna().sum()"
   ]
  },
  {
   "cell_type": "code",
   "execution_count": 9,
   "id": "velvet-heart",
   "metadata": {
    "execution": {
     "iopub.execute_input": "2021-05-16T15:43:28.872520Z",
     "iopub.status.busy": "2021-05-16T15:43:28.871688Z",
     "iopub.status.idle": "2021-05-16T15:43:28.893552Z",
     "shell.execute_reply": "2021-05-16T15:43:28.892853Z"
    },
    "papermill": {
     "duration": 0.081843,
     "end_time": "2021-05-16T15:43:28.893715",
     "exception": false,
     "start_time": "2021-05-16T15:43:28.811872",
     "status": "completed"
    },
    "tags": []
   },
   "outputs": [],
   "source": [
    "df_train = df_train.fillna('')\n",
    "df_test = df_test.fillna('')"
   ]
  },
  {
   "cell_type": "code",
   "execution_count": 10,
   "id": "congressional-lightweight",
   "metadata": {
    "execution": {
     "iopub.execute_input": "2021-05-16T15:43:29.008571Z",
     "iopub.status.busy": "2021-05-16T15:43:29.007861Z",
     "iopub.status.idle": "2021-05-16T15:43:29.045947Z",
     "shell.execute_reply": "2021-05-16T15:43:29.046460Z"
    },
    "papermill": {
     "duration": 0.096859,
     "end_time": "2021-05-16T15:43:29.046653",
     "exception": false,
     "start_time": "2021-05-16T15:43:28.949794",
     "status": "completed"
    },
    "tags": []
   },
   "outputs": [],
   "source": [
    "df_train['total'] = df_train['title'] + df_train['author']\n",
    "df_test['total'] = df_test['title'] + df_test['author']\n"
   ]
  },
  {
   "cell_type": "code",
   "execution_count": 11,
   "id": "existing-grant",
   "metadata": {
    "execution": {
     "iopub.execute_input": "2021-05-16T15:43:29.175441Z",
     "iopub.status.busy": "2021-05-16T15:43:29.174670Z",
     "iopub.status.idle": "2021-05-16T15:43:29.197526Z",
     "shell.execute_reply": "2021-05-16T15:43:29.196928Z"
    },
    "papermill": {
     "duration": 0.091867,
     "end_time": "2021-05-16T15:43:29.197703",
     "exception": false,
     "start_time": "2021-05-16T15:43:29.105836",
     "status": "completed"
    },
    "tags": []
   },
   "outputs": [],
   "source": [
    "unreliable_count =len(df_train[df_train['label']==1])\n",
    "reliable_count = len(df_train[df_train['label']== 0])"
   ]
  },
  {
   "cell_type": "code",
   "execution_count": 12,
   "id": "military-small",
   "metadata": {
    "execution": {
     "iopub.execute_input": "2021-05-16T15:43:29.337380Z",
     "iopub.status.busy": "2021-05-16T15:43:29.333272Z",
     "iopub.status.idle": "2021-05-16T15:43:29.454761Z",
     "shell.execute_reply": "2021-05-16T15:43:29.454160Z"
    },
    "papermill": {
     "duration": 0.1989,
     "end_time": "2021-05-16T15:43:29.454923",
     "exception": false,
     "start_time": "2021-05-16T15:43:29.256023",
     "status": "completed"
    },
    "tags": []
   },
   "outputs": [
    {
     "data": {
      "image/png": "[encoded data removed]",
      "text/plain": [
       "<Figure size 432x288 with 1 Axes>"
      ]
     },
     "metadata": {},
     "output_type": "display_data"
    }
   ],
   "source": [
    "y = np.array([unreliable_count,reliable_count])\n",
    "mylabels = ['Unreliable','Reliable']\n",
    "plt.pie(y,labels=mylabels,autopct='%.2f')\n",
    "plt.show()"
   ]
  },
  {
   "cell_type": "code",
   "execution_count": 13,
   "id": "random-sweet",
   "metadata": {
    "execution": {
     "iopub.execute_input": "2021-05-16T15:43:29.577383Z",
     "iopub.status.busy": "2021-05-16T15:43:29.576681Z",
     "iopub.status.idle": "2021-05-16T15:43:29.580499Z",
     "shell.execute_reply": "2021-05-16T15:43:29.579826Z"
    },
    "papermill": {
     "duration": 0.067016,
     "end_time": "2021-05-16T15:43:29.580669",
     "exception": false,
     "start_time": "2021-05-16T15:43:29.513653",
     "status": "completed"
    },
    "tags": []
   },
   "outputs": [],
   "source": [
    "# The pie chart show us that Reliable and Unreliable quantities are same!"
   ]
  },
  {
   "cell_type": "code",
   "execution_count": 14,
   "id": "racial-sense",
   "metadata": {
    "execution": {
     "iopub.execute_input": "2021-05-16T15:43:29.720454Z",
     "iopub.status.busy": "2021-05-16T15:43:29.701516Z",
     "iopub.status.idle": "2021-05-16T15:43:29.727012Z",
     "shell.execute_reply": "2021-05-16T15:43:29.726416Z"
    },
    "papermill": {
     "duration": 0.088219,
     "end_time": "2021-05-16T15:43:29.727181",
     "exception": false,
     "start_time": "2021-05-16T15:43:29.638962",
     "status": "completed"
    },
    "tags": []
   },
   "outputs": [],
   "source": [
    "df_train['len_text'] = df_train['text'].apply(lambda x : len(x))"
   ]
  },
  {
   "cell_type": "code",
   "execution_count": 15,
   "id": "requested-cylinder",
   "metadata": {
    "execution": {
     "iopub.execute_input": "2021-05-16T15:43:29.890433Z",
     "iopub.status.busy": "2021-05-16T15:43:29.889299Z",
     "iopub.status.idle": "2021-05-16T15:43:30.109422Z",
     "shell.execute_reply": "2021-05-16T15:43:30.108753Z"
    },
    "papermill": {
     "duration": 0.326472,
     "end_time": "2021-05-16T15:43:30.109600",
     "exception": false,
     "start_time": "2021-05-16T15:43:29.783128",
     "status": "completed"
    },
    "tags": []
   },
   "outputs": [
    {
     "data": {
      "image/png": "[encoded data removed]",
      "text/plain": [
       "<Figure size 720x360 with 2 Axes>"
      ]
     },
     "metadata": {
      "needs_background": "light"
     },
     "output_type": "display_data"
    }
   ],
   "source": [
    "fig,(ax1,ax2) = plt.subplots(1,2,figsize=(10,5))\n",
    "\n",
    "ax1.boxplot(df_train[df_train['label']==1]['len_text'])\n",
    "ax1.set_title('Unreliable')\n",
    "ax2.boxplot(df_train[df_train['label']==0]['len_text'])\n",
    "ax2.set_title('Reliable')\n",
    "\n",
    "plt.show()"
   ]
  },
  {
   "cell_type": "code",
   "execution_count": 16,
   "id": "acceptable-economy",
   "metadata": {
    "execution": {
     "iopub.execute_input": "2021-05-16T15:43:30.238243Z",
     "iopub.status.busy": "2021-05-16T15:43:30.237573Z",
     "iopub.status.idle": "2021-05-16T15:43:30.241401Z",
     "shell.execute_reply": "2021-05-16T15:43:30.240837Z"
    },
    "papermill": {
     "duration": 0.069393,
     "end_time": "2021-05-16T15:43:30.241558",
     "exception": false,
     "start_time": "2021-05-16T15:43:30.172165",
     "status": "completed"
    },
    "tags": []
   },
   "outputs": [],
   "source": [
    "# We observe that Unreliable news generally includes less words than Reliable !"
   ]
  },
  {
   "cell_type": "code",
   "execution_count": 17,
   "id": "average-exercise",
   "metadata": {
    "execution": {
     "iopub.execute_input": "2021-05-16T15:43:30.376331Z",
     "iopub.status.busy": "2021-05-16T15:43:30.375439Z",
     "iopub.status.idle": "2021-05-16T15:43:30.646410Z",
     "shell.execute_reply": "2021-05-16T15:43:30.646917Z"
    },
    "papermill": {
     "duration": 0.343145,
     "end_time": "2021-05-16T15:43:30.647088",
     "exception": false,
     "start_time": "2021-05-16T15:43:30.303943",
     "status": "completed"
    },
    "tags": []
   },
   "outputs": [
    {
     "data": {
      "text/plain": [
       "<AxesSubplot:xlabel='Author'>"
      ]
     },
     "execution_count": 17,
     "metadata": {},
     "output_type": "execute_result"
    },
    {
     "data": {
      "image/png": "[encoded data removed]",
      "text/plain": [
       "<Figure size 432x288 with 1 Axes>"
      ]
     },
     "metadata": {
      "needs_background": "light"
     },
     "output_type": "display_data"
    }
   ],
   "source": [
    "\n",
    "\n",
    "unreliable_author = pd.DataFrame({'Author':df_train[df_train['label']==1]['author'].value_counts().head(10).index,'Quantities':df_train[df_train['label']==1]['author'].value_counts().head(10)})\n",
    "\n",
    "unreliable_author.plot(kind='bar',x='Author',y='Quantities')"
   ]
  },
  {
   "cell_type": "code",
   "execution_count": 18,
   "id": "corporate-vehicle",
   "metadata": {
    "execution": {
     "iopub.execute_input": "2021-05-16T15:43:30.774800Z",
     "iopub.status.busy": "2021-05-16T15:43:30.774135Z",
     "iopub.status.idle": "2021-05-16T15:43:31.020040Z",
     "shell.execute_reply": "2021-05-16T15:43:31.019078Z"
    },
    "papermill": {
     "duration": 0.313492,
     "end_time": "2021-05-16T15:43:31.020255",
     "exception": false,
     "start_time": "2021-05-16T15:43:30.706763",
     "status": "completed"
    },
    "tags": []
   },
   "outputs": [
    {
     "data": {
      "text/plain": [
       "<AxesSubplot:xlabel='Author'>"
      ]
     },
     "execution_count": 18,
     "metadata": {},
     "output_type": "execute_result"
    },
    {
     "data": {
      "image/png": "[encoded data removed]",
      "text/plain": [
       "<Figure size 432x288 with 1 Axes>"
      ]
     },
     "metadata": {
      "needs_background": "light"
     },
     "output_type": "display_data"
    }
   ],
   "source": [
    "reliable_author = pd.DataFrame({'Author':df_train[df_train['label']==0]['author'].value_counts().head(10).index,'Quantities':df_train[df_train['label']==0]['author'].value_counts().head(10)})\n",
    "\n",
    "reliable_author.plot(kind='bar',x='Author',y='Quantities')"
   ]
  },
  {
   "cell_type": "code",
   "execution_count": 19,
   "id": "tired-mason",
   "metadata": {
    "execution": {
     "iopub.execute_input": "2021-05-16T15:43:31.169610Z",
     "iopub.status.busy": "2021-05-16T15:43:31.168937Z",
     "iopub.status.idle": "2021-05-16T15:43:31.172419Z",
     "shell.execute_reply": "2021-05-16T15:43:31.171696Z"
    },
    "papermill": {
     "duration": 0.080573,
     "end_time": "2021-05-16T15:43:31.172567",
     "exception": false,
     "start_time": "2021-05-16T15:43:31.091994",
     "status": "completed"
    },
    "tags": []
   },
   "outputs": [],
   "source": [
    "# We found the Authors who are generally posting Reliable or Unreliable news"
   ]
  },
  {
   "cell_type": "code",
   "execution_count": 20,
   "id": "suburban-mills",
   "metadata": {
    "execution": {
     "iopub.execute_input": "2021-05-16T15:43:31.308483Z",
     "iopub.status.busy": "2021-05-16T15:43:31.304101Z",
     "iopub.status.idle": "2021-05-16T15:43:31.312044Z",
     "shell.execute_reply": "2021-05-16T15:43:31.311372Z"
    },
    "papermill": {
     "duration": 0.076798,
     "end_time": "2021-05-16T15:43:31.312217",
     "exception": false,
     "start_time": "2021-05-16T15:43:31.235419",
     "status": "completed"
    },
    "tags": []
   },
   "outputs": [],
   "source": [
    "df_train = df_train.drop(columns= ['id','title','author','len_text'])"
   ]
  },
  {
   "cell_type": "code",
   "execution_count": 21,
   "id": "dirty-killing",
   "metadata": {
    "execution": {
     "iopub.execute_input": "2021-05-16T15:43:31.446032Z",
     "iopub.status.busy": "2021-05-16T15:43:31.444855Z",
     "iopub.status.idle": "2021-05-16T15:43:31.454197Z",
     "shell.execute_reply": "2021-05-16T15:43:31.453603Z"
    },
    "papermill": {
     "duration": 0.078095,
     "end_time": "2021-05-16T15:43:31.454358",
     "exception": false,
     "start_time": "2021-05-16T15:43:31.376263",
     "status": "completed"
    },
    "tags": []
   },
   "outputs": [],
   "source": [
    "df_test = df_test.drop(columns = ['title','author'])"
   ]
  },
  {
   "cell_type": "code",
   "execution_count": 22,
   "id": "designing-gazette",
   "metadata": {
    "execution": {
     "iopub.execute_input": "2021-05-16T15:43:31.581403Z",
     "iopub.status.busy": "2021-05-16T15:43:31.580510Z",
     "iopub.status.idle": "2021-05-16T15:43:31.584578Z",
     "shell.execute_reply": "2021-05-16T15:43:31.585031Z"
    },
    "papermill": {
     "duration": 0.068012,
     "end_time": "2021-05-16T15:43:31.585322",
     "exception": false,
     "start_time": "2021-05-16T15:43:31.517310",
     "status": "completed"
    },
    "tags": []
   },
   "outputs": [],
   "source": [
    "# We drop the unnecessary columns from our DataFrame, let start to preprocessing"
   ]
  },
  {
   "cell_type": "code",
   "execution_count": 23,
   "id": "capital-trader",
   "metadata": {
    "execution": {
     "iopub.execute_input": "2021-05-16T15:43:31.717714Z",
     "iopub.status.busy": "2021-05-16T15:43:31.716889Z",
     "iopub.status.idle": "2021-05-16T15:43:31.720535Z",
     "shell.execute_reply": "2021-05-16T15:43:31.719939Z"
    },
    "papermill": {
     "duration": 0.073692,
     "end_time": "2021-05-16T15:43:31.720681",
     "exception": false,
     "start_time": "2021-05-16T15:43:31.646989",
     "status": "completed"
    },
    "tags": []
   },
   "outputs": [],
   "source": [
    "ps = PorterStemmer()\n",
    "def preprocess_data(data):\n",
    "    \n",
    "    review = re.sub('[^a-zA-Z]',' ',data) # filtering out miscellaneous text.\n",
    "    review = review.lower()\n",
    "    review = review.split()\n",
    "    review = [ps.stem(words) for words in review if words not in stopwords.words('english') and words.isalpha()]\n",
    "    review = ' '.join(review)\n",
    "    return review"
   ]
  },
  {
   "cell_type": "code",
   "execution_count": 24,
   "id": "corrected-simple",
   "metadata": {
    "execution": {
     "iopub.execute_input": "2021-05-16T15:43:31.848894Z",
     "iopub.status.busy": "2021-05-16T15:43:31.848200Z",
     "iopub.status.idle": "2021-05-16T15:44:28.120936Z",
     "shell.execute_reply": "2021-05-16T15:44:28.121701Z"
    },
    "papermill": {
     "duration": 56.340496,
     "end_time": "2021-05-16T15:44:28.121983",
     "exception": false,
     "start_time": "2021-05-16T15:43:31.781487",
     "status": "completed"
    },
    "tags": []
   },
   "outputs": [],
   "source": [
    "\n",
    "df_train['clean_total'] = df_train['total'].apply(preprocess_data)\n",
    "df_test['clean_total'] = df_test['total'].apply(preprocess_data)"
   ]
  },
  {
   "cell_type": "code",
   "execution_count": 25,
   "id": "wired-lancaster",
   "metadata": {
    "execution": {
     "iopub.execute_input": "2021-05-16T15:44:28.256421Z",
     "iopub.status.busy": "2021-05-16T15:44:28.255728Z",
     "iopub.status.idle": "2021-05-16T15:44:29.841325Z",
     "shell.execute_reply": "2021-05-16T15:44:29.840775Z"
    },
    "papermill": {
     "duration": 1.65587,
     "end_time": "2021-05-16T15:44:29.841475",
     "exception": false,
     "start_time": "2021-05-16T15:44:28.185605",
     "status": "completed"
    },
    "tags": []
   },
   "outputs": [
    {
     "data": {
      "image/png": "[encoded data removed]",
      "text/plain": [
       "<Figure size 432x288 with 1 Axes>"
      ]
     },
     "metadata": {
      "needs_background": "light"
     },
     "output_type": "display_data"
    }
   ],
   "source": [
    "wc = WordCloud(background_color = 'white')\n",
    "wc.generate(' '.join(df_train[df_train['label']==1]['clean_total']))\n",
    "plt.imshow(wc,interpolation = 'bilinear')\n",
    "plt.title('Unreliable')\n",
    "plt.axis('off')\n",
    "plt.show()"
   ]
  },
  {
   "cell_type": "code",
   "execution_count": 26,
   "id": "buried-health",
   "metadata": {
    "execution": {
     "iopub.execute_input": "2021-05-16T15:44:29.981533Z",
     "iopub.status.busy": "2021-05-16T15:44:29.980848Z",
     "iopub.status.idle": "2021-05-16T15:44:31.648862Z",
     "shell.execute_reply": "2021-05-16T15:44:31.648274Z"
    },
    "papermill": {
     "duration": 1.740046,
     "end_time": "2021-05-16T15:44:31.649009",
     "exception": false,
     "start_time": "2021-05-16T15:44:29.908963",
     "status": "completed"
    },
    "tags": []
   },
   "outputs": [
    {
     "data": {
      "image/png": "[encoded data removed]",
      "text/plain": [
       "<Figure size 432x288 with 1 Axes>"
      ]
     },
     "metadata": {
      "needs_background": "light"
     },
     "output_type": "display_data"
    }
   ],
   "source": [
    "wc1= WordCloud(background_color = 'white')\n",
    "wc1.generate(' '.join(df_train[df_train['label']==0]['clean_total']))\n",
    "plt.imshow(wc1,interpolation = 'bilinear')\n",
    "plt.title('Reliable')\n",
    "plt.axis('off')\n",
    "plt.show()"
   ]
  },
  {
   "cell_type": "code",
   "execution_count": 27,
   "id": "worthy-violence",
   "metadata": {
    "execution": {
     "iopub.execute_input": "2021-05-16T15:44:31.792491Z",
     "iopub.status.busy": "2021-05-16T15:44:31.791820Z",
     "iopub.status.idle": "2021-05-16T15:44:31.794793Z",
     "shell.execute_reply": "2021-05-16T15:44:31.795251Z"
    },
    "papermill": {
     "duration": 0.078153,
     "end_time": "2021-05-16T15:44:31.795435",
     "exception": false,
     "start_time": "2021-05-16T15:44:31.717282",
     "status": "completed"
    },
    "tags": []
   },
   "outputs": [],
   "source": [
    "# Most common words will be deleted from Reliable and Unreliable "
   ]
  },
  {
   "cell_type": "code",
   "execution_count": 29,
   "id": "united-tampa",
   "metadata": {
    "execution": {
     "iopub.execute_input": "2021-05-16T15:44:31.934607Z",
     "iopub.status.busy": "2021-05-16T15:44:31.933888Z",
     "iopub.status.idle": "2021-05-16T15:44:33.282459Z",
     "shell.execute_reply": "2021-05-16T15:44:33.281583Z"
    },
    "papermill": {
     "duration": 1.419949,
     "end_time": "2021-05-16T15:44:33.282626",
     "exception": false,
     "start_time": "2021-05-16T15:44:31.862677",
     "status": "completed"
    },
    "tags": []
   },
   "outputs": [],
   "source": [
    "train = pd.read_csv('fake-news/train.csv')\n",
    "train = train[['title','label']]"
   ]
  },
  {
   "cell_type": "code",
   "execution_count": 30,
   "id": "accompanied-visiting",
   "metadata": {
    "execution": {
     "iopub.execute_input": "2021-05-16T15:44:33.424954Z",
     "iopub.status.busy": "2021-05-16T15:44:33.424325Z",
     "iopub.status.idle": "2021-05-16T15:44:33.431628Z",
     "shell.execute_reply": "2021-05-16T15:44:33.431060Z"
    },
    "papermill": {
     "duration": 0.08044,
     "end_time": "2021-05-16T15:44:33.431766",
     "exception": false,
     "start_time": "2021-05-16T15:44:33.351326",
     "status": "completed"
    },
    "tags": []
   },
   "outputs": [],
   "source": [
    "unreliable_title = train[train['label']==1]['title']\n",
    "reliable_title = train[train['label']==0]['title']"
   ]
  },
  {
   "cell_type": "code",
   "execution_count": 31,
   "id": "specialized-union",
   "metadata": {
    "execution": {
     "iopub.execute_input": "2021-05-16T15:44:33.586950Z",
     "iopub.status.busy": "2021-05-16T15:44:33.586307Z",
     "iopub.status.idle": "2021-05-16T15:44:33.664946Z",
     "shell.execute_reply": "2021-05-16T15:44:33.665458Z"
    },
    "papermill": {
     "duration": 0.166713,
     "end_time": "2021-05-16T15:44:33.665637",
     "exception": false,
     "start_time": "2021-05-16T15:44:33.498924",
     "status": "completed"
    },
    "tags": []
   },
   "outputs": [],
   "source": [
    "common_words_unreliable = pd.Series(' '.join([str(i) for i in unreliable_title ]).split()).value_counts().head(20).index"
   ]
  },
  {
   "cell_type": "code",
   "execution_count": 32,
   "id": "objective-kenya",
   "metadata": {
    "execution": {
     "iopub.execute_input": "2021-05-16T15:44:33.803971Z",
     "iopub.status.busy": "2021-05-16T15:44:33.803331Z",
     "iopub.status.idle": "2021-05-16T15:44:33.909070Z",
     "shell.execute_reply": "2021-05-16T15:44:33.909586Z"
    },
    "papermill": {
     "duration": 0.176339,
     "end_time": "2021-05-16T15:44:33.909767",
     "exception": false,
     "start_time": "2021-05-16T15:44:33.733428",
     "status": "completed"
    },
    "tags": []
   },
   "outputs": [],
   "source": [
    "common_words_reliable = pd.Series(' '.join([str(i) for i in reliable_title]).split()).value_counts().head(20).index"
   ]
  },
  {
   "cell_type": "code",
   "execution_count": 33,
   "id": "compatible-rachel",
   "metadata": {
    "execution": {
     "iopub.execute_input": "2021-05-16T15:44:34.049670Z",
     "iopub.status.busy": "2021-05-16T15:44:34.049030Z",
     "iopub.status.idle": "2021-05-16T15:44:34.053969Z",
     "shell.execute_reply": "2021-05-16T15:44:34.053358Z"
    },
    "papermill": {
     "duration": 0.076654,
     "end_time": "2021-05-16T15:44:34.054123",
     "exception": false,
     "start_time": "2021-05-16T15:44:33.977469",
     "status": "completed"
    },
    "tags": []
   },
   "outputs": [],
   "source": [
    "common_words = set(common_words_unreliable).intersection(common_words_reliable)"
   ]
  },
  {
   "cell_type": "code",
   "execution_count": 34,
   "id": "boolean-qualification",
   "metadata": {
    "execution": {
     "iopub.execute_input": "2021-05-16T15:44:34.201148Z",
     "iopub.status.busy": "2021-05-16T15:44:34.200493Z",
     "iopub.status.idle": "2021-05-16T15:44:34.203410Z",
     "shell.execute_reply": "2021-05-16T15:44:34.202909Z"
    },
    "papermill": {
     "duration": 0.07856,
     "end_time": "2021-05-16T15:44:34.203552",
     "exception": false,
     "start_time": "2021-05-16T15:44:34.124992",
     "status": "completed"
    },
    "tags": []
   },
   "outputs": [],
   "source": [
    "def text_cleaning(data):\n",
    "    review = [i for i in data.split() if i not in common_words ]\n",
    "    return review"
   ]
  },
  {
   "cell_type": "code",
   "execution_count": 35,
   "id": "accompanied-blind",
   "metadata": {
    "execution": {
     "iopub.execute_input": "2021-05-16T15:44:34.346657Z",
     "iopub.status.busy": "2021-05-16T15:44:34.345734Z",
     "iopub.status.idle": "2021-05-16T15:44:34.430313Z",
     "shell.execute_reply": "2021-05-16T15:44:34.429725Z"
    },
    "papermill": {
     "duration": 0.157871,
     "end_time": "2021-05-16T15:44:34.430463",
     "exception": false,
     "start_time": "2021-05-16T15:44:34.272592",
     "status": "completed"
    },
    "tags": []
   },
   "outputs": [],
   "source": [
    "df_train['clean_total'] = df_train['clean_total'].apply(text_cleaning)\n",
    "df_test['clean_total'] = df_test['clean_total'].apply(text_cleaning)"
   ]
  },
  {
   "cell_type": "code",
   "execution_count": 36,
   "id": "identical-highway",
   "metadata": {
    "execution": {
     "iopub.execute_input": "2021-05-16T15:44:34.573431Z",
     "iopub.status.busy": "2021-05-16T15:44:34.572765Z",
     "iopub.status.idle": "2021-05-16T15:44:34.576997Z",
     "shell.execute_reply": "2021-05-16T15:44:34.577668Z"
    },
    "papermill": {
     "duration": 0.078262,
     "end_time": "2021-05-16T15:44:34.577872",
     "exception": false,
     "start_time": "2021-05-16T15:44:34.499610",
     "status": "completed"
    },
    "tags": []
   },
   "outputs": [
    {
     "data": {
      "text/plain": [
       "{'Is', 'The', 'Trump', 'a', 'and', 'for', 'in', 'of', 'on', 'the', 'to'}"
      ]
     },
     "execution_count": 36,
     "metadata": {},
     "output_type": "execute_result"
    }
   ],
   "source": [
    "common_words"
   ]
  },
  {
   "cell_type": "code",
   "execution_count": 37,
   "id": "chief-liechtenstein",
   "metadata": {
    "execution": {
     "iopub.execute_input": "2021-05-16T15:44:34.735369Z",
     "iopub.status.busy": "2021-05-16T15:44:34.734673Z",
     "iopub.status.idle": "2021-05-16T15:44:34.739855Z",
     "shell.execute_reply": "2021-05-16T15:44:34.740392Z"
    },
    "papermill": {
     "duration": 0.093515,
     "end_time": "2021-05-16T15:44:34.740567",
     "exception": false,
     "start_time": "2021-05-16T15:44:34.647052",
     "status": "completed"
    },
    "tags": []
   },
   "outputs": [
    {
     "data": {
      "text/plain": [
       "50"
      ]
     },
     "execution_count": 37,
     "metadata": {},
     "output_type": "execute_result"
    }
   ],
   "source": [
    "#Most common words has been deleted, let continue to preprocessing \n",
    "\n",
    "np.max(df_train['clean_total'].apply(lambda x: len(x)))"
   ]
  },
  {
   "cell_type": "code",
   "execution_count": 38,
   "id": "differential-swimming",
   "metadata": {
    "execution": {
     "iopub.execute_input": "2021-05-16T15:44:34.924502Z",
     "iopub.status.busy": "2021-05-16T15:44:34.918937Z",
     "iopub.status.idle": "2021-05-16T15:44:35.598101Z",
     "shell.execute_reply": "2021-05-16T15:44:35.597429Z"
    },
    "papermill": {
     "duration": 0.788793,
     "end_time": "2021-05-16T15:44:35.598264",
     "exception": false,
     "start_time": "2021-05-16T15:44:34.809471",
     "status": "completed"
    },
    "tags": []
   },
   "outputs": [],
   "source": [
    "sentence_length = 25\n",
    "tokenizer = Tokenizer()\n",
    "tokenizer.fit_on_texts(df_train['clean_total'])\n",
    "df_train_total = tokenizer.texts_to_sequences(df_train['clean_total'])\n",
    "df_train_total = pad_sequences(df_train_total,maxlen = sentence_length)\n",
    "df_test_total = tokenizer.texts_to_sequences(df_test['clean_total'])\n",
    "df_test_total = pad_sequences(df_test_total,maxlen = sentence_length)"
   ]
  },
  {
   "cell_type": "code",
   "execution_count": 39,
   "id": "cutting-darkness",
   "metadata": {
    "execution": {
     "iopub.execute_input": "2021-05-16T15:44:35.747741Z",
     "iopub.status.busy": "2021-05-16T15:44:35.746697Z",
     "iopub.status.idle": "2021-05-16T15:44:35.752092Z",
     "shell.execute_reply": "2021-05-16T15:44:35.751428Z"
    },
    "papermill": {
     "duration": 0.081271,
     "end_time": "2021-05-16T15:44:35.752289",
     "exception": false,
     "start_time": "2021-05-16T15:44:35.671018",
     "status": "completed"
    },
    "tags": []
   },
   "outputs": [
    {
     "data": {
      "text/plain": [
       "(5200, 25)"
      ]
     },
     "execution_count": 39,
     "metadata": {},
     "output_type": "execute_result"
    }
   ],
   "source": [
    "df_test_total.shape"
   ]
  },
  {
   "cell_type": "code",
   "execution_count": 40,
   "id": "thirty-residence",
   "metadata": {
    "execution": {
     "iopub.execute_input": "2021-05-16T15:44:35.905433Z",
     "iopub.status.busy": "2021-05-16T15:44:35.904520Z",
     "iopub.status.idle": "2021-05-16T15:44:35.907731Z",
     "shell.execute_reply": "2021-05-16T15:44:35.907066Z"
    },
    "papermill": {
     "duration": 0.084037,
     "end_time": "2021-05-16T15:44:35.907885",
     "exception": false,
     "start_time": "2021-05-16T15:44:35.823848",
     "status": "completed"
    },
    "tags": []
   },
   "outputs": [],
   "source": [
    "# Creates a model given an activation and learning rate\n",
    "def create_model(learning_rate):\n",
    "  \n",
    "    # Create an Adam optimizer with the given learning rate\n",
    "    opt = Adam(lr = learning_rate)\n",
    "    embedding_vector_features=40\n",
    "    model = Sequential()\n",
    "    model.add(Embedding(60000,embedding_vector_features,input_length=sentence_length))\n",
    "    model.add(Dropout(0.3))\n",
    "    model.add(LSTM(100))\n",
    "    model.add(Dropout(0.3))\n",
    "    model.add(Dense(64,activation='relu'))\n",
    "    model.add(Dropout(0.3))\n",
    "    model.add(Dense(1,activation='sigmoid'))\n",
    "    model.compile(loss='binary_crossentropy',optimizer=opt ,metrics=['accuracy'])\n",
    "    return model"
   ]
  },
  {
   "cell_type": "code",
   "execution_count": 41,
   "id": "motivated-jefferson",
   "metadata": {
    "execution": {
     "iopub.execute_input": "2021-05-16T15:44:36.069758Z",
     "iopub.status.busy": "2021-05-16T15:44:36.068715Z",
     "iopub.status.idle": "2021-05-16T15:44:36.072861Z",
     "shell.execute_reply": "2021-05-16T15:44:36.072032Z"
    },
    "papermill": {
     "duration": 0.091394,
     "end_time": "2021-05-16T15:44:36.073032",
     "exception": false,
     "start_time": "2021-05-16T15:44:35.981638",
     "status": "completed"
    },
    "tags": []
   },
   "outputs": [],
   "source": [
    "model = KerasClassifier(build_fn = create_model)\n",
    "\n",
    "early_stop = EarlyStopping(\n",
    "    monitor = 'val_loss', min_delta = 0.1, patience = 5, verbose = 0)\n",
    "callbacks = [early_stop]\n",
    "params = {'learning_rate' : [0.1, 0.01, 0.001],'batch_size': [64],'callbacks':callbacks,'epochs' :[50]}\n",
    "random_search = RandomizedSearchCV(model, param_distributions = params,cv = KFold(3), n_jobs = -1,verbose = 1)\n",
    "reduce_lr = ReduceLROnPlateau(monitor='val_loss', factor=0.1, patience=5, \n",
    "                              verbose=1, mode='min')"
   ]
  },
  {
   "cell_type": "code",
   "execution_count": 42,
   "id": "going-privilege",
   "metadata": {
    "execution": {
     "iopub.execute_input": "2021-05-16T15:44:36.227606Z",
     "iopub.status.busy": "2021-05-16T15:44:36.226558Z",
     "iopub.status.idle": "2021-05-16T15:44:36.228987Z",
     "shell.execute_reply": "2021-05-16T15:44:36.229602Z"
    },
    "papermill": {
     "duration": 0.081208,
     "end_time": "2021-05-16T15:44:36.229775",
     "exception": false,
     "start_time": "2021-05-16T15:44:36.148567",
     "status": "completed"
    },
    "tags": []
   },
   "outputs": [],
   "source": [
    "X =  df_train_total\n",
    "y = df_train['label']"
   ]
  },
  {
   "cell_type": "code",
   "execution_count": null,
   "id": "sixth-conditioning",
   "metadata": {
    "execution": {
     "iopub.execute_input": "2021-05-16T15:44:36.392494Z",
     "iopub.status.busy": "2021-05-16T15:44:36.391479Z",
     "iopub.status.idle": "2021-05-16T17:02:57.191961Z",
     "shell.execute_reply": "2021-05-16T17:02:57.192659Z"
    },
    "papermill": {
     "duration": 4700.884711,
     "end_time": "2021-05-16T17:02:57.192930",
     "exception": false,
     "start_time": "2021-05-16T15:44:36.308219",
     "status": "completed"
    },
    "tags": []
   },
   "outputs": [
    {
     "name": "stderr",
     "output_type": "stream",
     "text": [
      "C:\\Users\\khand\\anaconda3\\lib\\site-packages\\sklearn\\model_selection\\_search.py:289: UserWarning: The total space of parameters 3 is smaller than n_iter=10. Running 3 iterations. For exhaustive searches, use GridSearchCV.\n",
      "  % (grid_size, self.n_iter, grid_size), UserWarning)\n"
     ]
    },
    {
     "name": "stdout",
     "output_type": "stream",
     "text": [
      "Fitting 3 folds for each of 3 candidates, totalling 9 fits\n"
     ]
    }
   ],
   "source": [
    "random_search.fit(X, y)\n",
    "\n",
    "print('Best score obtained: {0}'.format(random_search.best_score_))\n",
    "print('Parameters:')\n",
    "for param, value in random_search.best_params_.items():\n",
    "    print('\\t{}: {}'.format(param, value))"
   ]
  },
  {
   "cell_type": "code",
   "execution_count": null,
   "id": "improving-basin",
   "metadata": {
    "execution": {
     "iopub.execute_input": "2021-05-16T17:03:03.217557Z",
     "iopub.status.busy": "2021-05-16T17:03:03.216517Z",
     "iopub.status.idle": "2021-05-16T17:03:03.233158Z",
     "shell.execute_reply": "2021-05-16T17:03:03.233663Z"
    },
    "papermill": {
     "duration": 3.104898,
     "end_time": "2021-05-16T17:03:03.233886",
     "exception": false,
     "start_time": "2021-05-16T17:03:00.128988",
     "status": "completed"
    },
    "tags": []
   },
   "outputs": [],
   "source": [
    "X_train, X_test, y_train, y_test = train_test_split(X, y, test_size=0.33, random_state=42)"
   ]
  },
  {
   "cell_type": "code",
   "execution_count": null,
   "id": "indoor-sector",
   "metadata": {
    "execution": {
     "iopub.execute_input": "2021-05-16T17:03:09.304405Z",
     "iopub.status.busy": "2021-05-16T17:03:09.301791Z",
     "iopub.status.idle": "2021-05-16T17:03:09.626245Z",
     "shell.execute_reply": "2021-05-16T17:03:09.625678Z"
    },
    "papermill": {
     "duration": 3.349442,
     "end_time": "2021-05-16T17:03:09.626444",
     "exception": false,
     "start_time": "2021-05-16T17:03:06.277002",
     "status": "completed"
    },
    "tags": []
   },
   "outputs": [],
   "source": [
    "    opt = Adam(lr = 0.001)\n",
    "    embedding_vector_features=40\n",
    "    model = Sequential()\n",
    "    model.add(Embedding(60000,embedding_vector_features,input_length=sentence_length))\n",
    "    model.add(Dropout(0.3))\n",
    "    model.add(LSTM(100))\n",
    "    model.add(Dropout(0.3))\n",
    "    model.add(Dense(64,activation='relu'))\n",
    "    model.add(Dropout(0.3))\n",
    "    model.add(Dense(1,activation='sigmoid'))\n",
    "    model.compile(loss='binary_crossentropy',optimizer=opt ,metrics=['accuracy'])"
   ]
  },
  {
   "cell_type": "code",
   "execution_count": null,
   "id": "complimentary-beverage",
   "metadata": {
    "execution": {
     "iopub.execute_input": "2021-05-16T17:03:15.496956Z",
     "iopub.status.busy": "2021-05-16T17:03:15.495965Z",
     "iopub.status.idle": "2021-05-16T17:03:15.502284Z",
     "shell.execute_reply": "2021-05-16T17:03:15.501725Z"
    },
    "papermill": {
     "duration": 2.935714,
     "end_time": "2021-05-16T17:03:15.502450",
     "exception": false,
     "start_time": "2021-05-16T17:03:12.566736",
     "status": "completed"
    },
    "tags": []
   },
   "outputs": [],
   "source": [
    "model.summary()"
   ]
  },
  {
   "cell_type": "code",
   "execution_count": null,
   "id": "funded-rocket",
   "metadata": {
    "execution": {
     "iopub.execute_input": "2021-05-16T17:03:21.434682Z",
     "iopub.status.busy": "2021-05-16T17:03:21.432696Z",
     "iopub.status.idle": "2021-05-16T17:04:36.597859Z",
     "shell.execute_reply": "2021-05-16T17:04:36.597256Z"
    },
    "papermill": {
     "duration": 78.084918,
     "end_time": "2021-05-16T17:04:36.598055",
     "exception": false,
     "start_time": "2021-05-16T17:03:18.513137",
     "status": "completed"
    },
    "tags": []
   },
   "outputs": [],
   "source": [
    "history = model.fit(X_train,y_train, validation_data = (X_test,y_test),callbacks = [early_stop,reduce_lr],epochs = 50,batch_size = 64)"
   ]
  },
  {
   "cell_type": "code",
   "execution_count": null,
   "id": "fluid-gather",
   "metadata": {
    "execution": {
     "iopub.execute_input": "2021-05-16T17:04:42.974553Z",
     "iopub.status.busy": "2021-05-16T17:04:42.973909Z",
     "iopub.status.idle": "2021-05-16T17:04:45.031617Z",
     "shell.execute_reply": "2021-05-16T17:04:45.031058Z"
    },
    "papermill": {
     "duration": 5.27717,
     "end_time": "2021-05-16T17:04:45.031782",
     "exception": false,
     "start_time": "2021-05-16T17:04:39.754612",
     "status": "completed"
    },
    "tags": []
   },
   "outputs": [],
   "source": [
    "print('The accuracy of our model is {}'.format(model.evaluate(X_test,y_test)[1]))"
   ]
  },
  {
   "cell_type": "code",
   "execution_count": null,
   "id": "mental-miracle",
   "metadata": {
    "execution": {
     "iopub.execute_input": "2021-05-16T17:04:51.350528Z",
     "iopub.status.busy": "2021-05-16T17:04:51.349015Z",
     "iopub.status.idle": "2021-05-16T17:04:53.506593Z",
     "shell.execute_reply": "2021-05-16T17:04:53.505883Z"
    },
    "papermill": {
     "duration": 5.33677,
     "end_time": "2021-05-16T17:04:53.506739",
     "exception": false,
     "start_time": "2021-05-16T17:04:48.169969",
     "status": "completed"
    },
    "tags": []
   },
   "outputs": [],
   "source": [
    "pred = model.predict(X_test)\n",
    "pred"
   ]
  },
  {
   "cell_type": "code",
   "execution_count": null,
   "id": "vital-studio",
   "metadata": {
    "execution": {
     "iopub.execute_input": "2021-05-16T17:04:59.814281Z",
     "iopub.status.busy": "2021-05-16T17:04:59.813265Z",
     "iopub.status.idle": "2021-05-16T17:04:59.838984Z",
     "shell.execute_reply": "2021-05-16T17:04:59.839472Z"
    },
    "papermill": {
     "duration": 3.207212,
     "end_time": "2021-05-16T17:04:59.839662",
     "exception": false,
     "start_time": "2021-05-16T17:04:56.632450",
     "status": "completed"
    },
    "tags": []
   },
   "outputs": [],
   "source": [
    "pred = pred.reshape(-1)\n",
    "pred.tolist()\n",
    "pred = [1 if x > 0.5 else 0 for x in pred]\n"
   ]
  },
  {
   "cell_type": "code",
   "execution_count": null,
   "id": "valuable-topic",
   "metadata": {
    "execution": {
     "iopub.execute_input": "2021-05-16T17:05:06.343487Z",
     "iopub.status.busy": "2021-05-16T17:05:06.342765Z",
     "iopub.status.idle": "2021-05-16T17:05:06.369476Z",
     "shell.execute_reply": "2021-05-16T17:05:06.368612Z"
    },
    "papermill": {
     "duration": 3.228491,
     "end_time": "2021-05-16T17:05:06.369696",
     "exception": false,
     "start_time": "2021-05-16T17:05:03.141205",
     "status": "completed"
    },
    "tags": []
   },
   "outputs": [],
   "source": [
    "target_names = ['label 0', 'label 1']\n",
    "print(classification_report(y_test, pred, target_names=target_names))"
   ]
  },
  {
   "cell_type": "code",
   "execution_count": null,
   "id": "romance-visiting",
   "metadata": {
    "execution": {
     "iopub.execute_input": "2021-05-16T17:05:12.974682Z",
     "iopub.status.busy": "2021-05-16T17:05:12.974033Z",
     "iopub.status.idle": "2021-05-16T17:05:14.441557Z",
     "shell.execute_reply": "2021-05-16T17:05:14.440302Z"
    },
    "papermill": {
     "duration": 4.725065,
     "end_time": "2021-05-16T17:05:14.441731",
     "exception": false,
     "start_time": "2021-05-16T17:05:09.716666",
     "status": "completed"
    },
    "tags": []
   },
   "outputs": [],
   "source": [
    "test_pred = model.predict(df_test_total)\n",
    "test_pred = [1 if x > 0.5 else 0 for x in test_pred]"
   ]
  },
  {
   "cell_type": "code",
   "execution_count": null,
   "id": "dominican-shore",
   "metadata": {
    "execution": {
     "iopub.execute_input": "2021-05-16T17:05:21.111970Z",
     "iopub.status.busy": "2021-05-16T17:05:21.111294Z",
     "iopub.status.idle": "2021-05-16T17:05:21.113666Z",
     "shell.execute_reply": "2021-05-16T17:05:21.114283Z"
    },
    "papermill": {
     "duration": 3.364127,
     "end_time": "2021-05-16T17:05:21.114472",
     "exception": false,
     "start_time": "2021-05-16T17:05:17.750345",
     "status": "completed"
    },
    "tags": []
   },
   "outputs": [],
   "source": [
    "df_test['label'] = test_pred"
   ]
  },
  {
   "cell_type": "code",
   "execution_count": null,
   "id": "pregnant-density",
   "metadata": {
    "execution": {
     "iopub.execute_input": "2021-05-16T17:05:27.518848Z",
     "iopub.status.busy": "2021-05-16T17:05:27.517836Z",
     "iopub.status.idle": "2021-05-16T17:05:27.566058Z",
     "shell.execute_reply": "2021-05-16T17:05:27.565453Z"
    },
    "papermill": {
     "duration": 3.262675,
     "end_time": "2021-05-16T17:05:27.566215",
     "exception": false,
     "start_time": "2021-05-16T17:05:24.303540",
     "status": "completed"
    },
    "tags": []
   },
   "outputs": [],
   "source": [
    "submission = df_test[['id','label']]\n",
    "submission.head()\n",
    "submission.to_csv(\"Submission.csv\",index=False)\n",
    "submission"
   ]
  },
  {
   "cell_type": "code",
   "execution_count": null,
   "id": "durable-cancellation",
   "metadata": {
    "execution": {
     "iopub.execute_input": "2021-05-16T17:05:33.908719Z",
     "iopub.status.busy": "2021-05-16T17:05:33.907791Z",
     "iopub.status.idle": "2021-05-16T17:05:40.401468Z",
     "shell.execute_reply": "2021-05-16T17:05:40.402087Z"
    },
    "papermill": {
     "duration": 9.666669,
     "end_time": "2021-05-16T17:05:40.402298",
     "exception": false,
     "start_time": "2021-05-16T17:05:30.735629",
     "status": "completed"
    },
    "tags": []
   },
   "outputs": [],
   "source": [
    "pred_test = model.predict(X)\n",
    "pred_test = [1 if x > 0.5 else 0 for x in pred_test]"
   ]
  },
  {
   "cell_type": "code",
   "execution_count": null,
   "id": "amino-objective",
   "metadata": {
    "execution": {
     "iopub.execute_input": "2021-05-16T17:05:48.631931Z",
     "iopub.status.busy": "2021-05-16T17:05:48.621832Z",
     "iopub.status.idle": "2021-05-16T17:05:48.638070Z",
     "shell.execute_reply": "2021-05-16T17:05:48.641336Z"
    },
    "papermill": {
     "duration": 3.706506,
     "end_time": "2021-05-16T17:05:48.641782",
     "exception": false,
     "start_time": "2021-05-16T17:05:44.935276",
     "status": "completed"
    },
    "tags": []
   },
   "outputs": [],
   "source": [
    "df = pd.DataFrame({'y_true' : y,'y_pred':pred_test })"
   ]
  },
  {
   "cell_type": "code",
   "execution_count": null,
   "id": "appointed-essay",
   "metadata": {
    "execution": {
     "iopub.execute_input": "2021-05-16T17:05:55.719878Z",
     "iopub.status.busy": "2021-05-16T17:05:55.719209Z",
     "iopub.status.idle": "2021-05-16T17:05:55.733735Z",
     "shell.execute_reply": "2021-05-16T17:05:55.733048Z"
    },
    "papermill": {
     "duration": 3.204964,
     "end_time": "2021-05-16T17:05:55.733877",
     "exception": false,
     "start_time": "2021-05-16T17:05:52.528913",
     "status": "completed"
    },
    "tags": []
   },
   "outputs": [],
   "source": [
    "mistake_news_id = df[df['y_true']!=df['y_pred']]\n",
    "mistake_news_id"
   ]
  },
  {
   "cell_type": "code",
   "execution_count": null,
   "id": "virgin-audience",
   "metadata": {
    "papermill": {
     "duration": 3.154946,
     "end_time": "2021-05-16T17:06:02.102360",
     "exception": false,
     "start_time": "2021-05-16T17:05:58.947414",
     "status": "completed"
    },
    "tags": []
   },
   "outputs": [],
   "source": []
  },
  {
   "cell_type": "code",
   "execution_count": null,
   "id": "czech-humidity",
   "metadata": {
    "papermill": {
     "duration": 3.210396,
     "end_time": "2021-05-16T17:06:08.459265",
     "exception": false,
     "start_time": "2021-05-16T17:06:05.248869",
     "status": "completed"
    },
    "tags": []
   },
   "outputs": [],
   "source": []
  },
  {
   "cell_type": "code",
   "execution_count": null,
   "id": "124fa630",
   "metadata": {},
   "outputs": [],
   "source": [
    "x"
   ]
  },
  {
   "cell_type": "code",
   "execution_count": null,
   "id": "9edaa800",
   "metadata": {},
   "outputs": [],
   "source": []
  },
  {
   "cell_type": "code",
   "execution_count": null,
   "id": "da7ac287",
   "metadata": {},
   "outputs": [],
   "source": []
  },
  {
   "cell_type": "code",
   "execution_count": null,
   "id": "8ef6a521",
   "metadata": {},
   "outputs": [],
   "source": []
  },
  {
   "cell_type": "code",
   "execution_count": null,
   "id": "6b872dff",
   "metadata": {},
   "outputs": [],
   "source": []
  },
  {
   "cell_type": "code",
   "execution_count": null,
   "id": "4a4ec1a3",
   "metadata": {},
   "outputs": [],
   "source": []
  },
  {
   "cell_type": "code",
   "execution_count": null,
   "id": "5c093ba6",
   "metadata": {},
   "outputs": [],
   "source": []
  },
  {
   "cell_type": "code",
   "execution_count": null,
   "id": "e1079d73",
   "metadata": {},
   "outputs": [],
   "source": []
  },
  {
   "cell_type": "code",
   "execution_count": null,
   "id": "730f51e8",
   "metadata": {},
   "outputs": [],
   "source": []
  }
 ],
 "metadata": {
  "kernelspec": {
   "display_name": "Python 3",
   "language": "python",
   "name": "python3"
  },
  "language_info": {
   "codemirror_mode": {
    "name": "ipython",
    "version": 3
   },
   "file_extension": ".py",
   "mimetype": "text/x-python",
   "name": "python",
   "nbconvert_exporter": "python",
   "pygments_lexer": "ipython3",
   "version": "3.7.10"
  },
  "papermill": {
   "default_parameters": {},
   "duration": 5002.454773,
   "end_time": "2021-05-16T17:06:13.695136",
   "environment_variables": {},
   "exception": null,
   "input_path": "__notebook__.ipynb",
   "output_path": "__notebook__.ipynb",
   "parameters": {},
   "start_time": "2021-05-16T15:42:51.240363",
   "version": "2.3.3"
  }
 },
 "nbformat": 4,
 "nbformat_minor": 5
}
