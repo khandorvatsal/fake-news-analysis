{
 "cells": [
  {
   "cell_type": "markdown",
   "id": "prescription-indonesia",
   "metadata": {
    "papermill": {
     "duration": 0.027816,
     "end_time": "2021-04-24T06:09:26.668258",
     "exception": false,
     "start_time": "2021-04-24T06:09:26.640442",
     "status": "completed"
    },
    "tags": []
   },
   "source": [
    "**This is a NLP problem where the task is to classify Fake News in an article. This notebook consists of various stages needed for identifying fake news such as data preprocessing, model experimentation, and evaluation of results.**"
   ]
  },
  {
   "cell_type": "code",
   "execution_count": 1,
   "id": "employed-pontiac",
   "metadata": {
    "execution": {
     "iopub.execute_input": "2021-04-24T06:09:26.726536Z",
     "iopub.status.busy": "2021-04-24T06:09:26.724851Z",
     "iopub.status.idle": "2021-04-24T06:09:34.346956Z",
     "shell.execute_reply": "2021-04-24T06:09:34.346205Z"
    },
    "papermill": {
     "duration": 7.65274,
     "end_time": "2021-04-24T06:09:34.347142",
     "exception": false,
     "start_time": "2021-04-24T06:09:26.694402",
     "status": "completed"
    },
    "tags": []
   },
   "outputs": [],
   "source": [
    "# Importing Libraries\n",
    "import pandas as pd\n",
    "import numpy as np\n",
    "import matplotlib.pyplot as plt\n",
    "%matplotlib inline\n",
    "import nltk\n",
    "import re\n",
    "from nltk.corpus import stopwords\n",
    "# nltk.download('stopwords')\n",
    "from tensorflow.keras.layers import Embedding,Dropout\n",
    "from tensorflow.keras.preprocessing.sequence import pad_sequences\n",
    "from tensorflow.keras.models import Sequential\n",
    "from tensorflow.keras.preprocessing.text import one_hot\n",
    "from tensorflow.keras.layers import LSTM,Bidirectional,GRU\n",
    "from tensorflow.keras.layers import Dense"
   ]
  },
  {
   "cell_type": "code",
   "execution_count": 2,
   "id": "fitting-skating",
   "metadata": {
    "execution": {
     "iopub.execute_input": "2021-04-24T06:09:34.410517Z",
     "iopub.status.busy": "2021-04-24T06:09:34.409817Z",
     "iopub.status.idle": "2021-04-24T06:09:36.957933Z",
     "shell.execute_reply": "2021-04-24T06:09:36.956892Z"
    },
    "papermill": {
     "duration": 2.582685,
     "end_time": "2021-04-24T06:09:36.958105",
     "exception": false,
     "start_time": "2021-04-24T06:09:34.375420",
     "status": "completed"
    },
    "tags": []
   },
   "outputs": [
    {
     "data": {
      "text/html": [
       "<div>\n",
       "<style scoped>\n",
       "    .dataframe tbody tr th:only-of-type {\n",
       "        vertical-align: middle;\n",
       "    }\n",
       "\n",
       "    .dataframe tbody tr th {\n",
       "        vertical-align: top;\n",
       "    }\n",
       "\n",
       "    .dataframe thead th {\n",
       "        text-align: right;\n",
       "    }\n",
       "</style>\n",
       "<table border=\"1\" class=\"dataframe\">\n",
       "  <thead>\n",
       "    <tr style=\"text-align: right;\">\n",
       "      <th></th>\n",
       "      <th>id</th>\n",
       "      <th>title</th>\n",
       "      <th>author</th>\n",
       "      <th>text</th>\n",
       "      <th>label</th>\n",
       "    </tr>\n",
       "  </thead>\n",
       "  <tbody>\n",
       "    <tr>\n",
       "      <th>0</th>\n",
       "      <td>0</td>\n",
       "      <td>House Dem Aide: We Didn’t Even See Comey’s Let...</td>\n",
       "      <td>Darrell Lucus</td>\n",
       "      <td>House Dem Aide: We Didn’t Even See Comey’s Let...</td>\n",
       "      <td>1</td>\n",
       "    </tr>\n",
       "    <tr>\n",
       "      <th>1</th>\n",
       "      <td>1</td>\n",
       "      <td>FLYNN: Hillary Clinton, Big Woman on Campus - ...</td>\n",
       "      <td>Daniel J. Flynn</td>\n",
       "      <td>Ever get the feeling your life circles the rou...</td>\n",
       "      <td>0</td>\n",
       "    </tr>\n",
       "    <tr>\n",
       "      <th>2</th>\n",
       "      <td>2</td>\n",
       "      <td>Why the Truth Might Get You Fired</td>\n",
       "      <td>Consortiumnews.com</td>\n",
       "      <td>Why the Truth Might Get You Fired October 29, ...</td>\n",
       "      <td>1</td>\n",
       "    </tr>\n",
       "    <tr>\n",
       "      <th>3</th>\n",
       "      <td>3</td>\n",
       "      <td>15 Civilians Killed In Single US Airstrike Hav...</td>\n",
       "      <td>Jessica Purkiss</td>\n",
       "      <td>Videos 15 Civilians Killed In Single US Airstr...</td>\n",
       "      <td>1</td>\n",
       "    </tr>\n",
       "    <tr>\n",
       "      <th>4</th>\n",
       "      <td>4</td>\n",
       "      <td>Iranian woman jailed for fictional unpublished...</td>\n",
       "      <td>Howard Portnoy</td>\n",
       "      <td>Print \\nAn Iranian woman has been sentenced to...</td>\n",
       "      <td>1</td>\n",
       "    </tr>\n",
       "  </tbody>\n",
       "</table>\n",
       "</div>"
      ],
      "text/plain": [
       "   id                                              title              author  \\\n",
       "0   0  House Dem Aide: We Didn’t Even See Comey’s Let...       Darrell Lucus   \n",
       "1   1  FLYNN: Hillary Clinton, Big Woman on Campus - ...     Daniel J. Flynn   \n",
       "2   2                  Why the Truth Might Get You Fired  Consortiumnews.com   \n",
       "3   3  15 Civilians Killed In Single US Airstrike Hav...     Jessica Purkiss   \n",
       "4   4  Iranian woman jailed for fictional unpublished...      Howard Portnoy   \n",
       "\n",
       "                                                text  label  \n",
       "0  House Dem Aide: We Didn’t Even See Comey’s Let...      1  \n",
       "1  Ever get the feeling your life circles the rou...      0  \n",
       "2  Why the Truth Might Get You Fired October 29, ...      1  \n",
       "3  Videos 15 Civilians Killed In Single US Airstr...      1  \n",
       "4  Print \\nAn Iranian woman has been sentenced to...      1  "
      ]
     },
     "execution_count": 2,
     "metadata": {},
     "output_type": "execute_result"
    }
   ],
   "source": [
    "# Reading data from csv\n",
    "train = pd.read_csv(\"fake-news/train.csv\")\n",
    "test  = pd.read_csv(\"fake-news/test.csv\")\n",
    "train.head()"
   ]
  },
  {
   "cell_type": "code",
   "execution_count": 3,
   "id": "adjacent-emergency",
   "metadata": {
    "execution": {
     "iopub.execute_input": "2021-04-24T06:09:37.027386Z",
     "iopub.status.busy": "2021-04-24T06:09:37.026495Z",
     "iopub.status.idle": "2021-04-24T06:09:37.030601Z",
     "shell.execute_reply": "2021-04-24T06:09:37.031035Z"
    },
    "papermill": {
     "duration": 0.045255,
     "end_time": "2021-04-24T06:09:37.031193",
     "exception": false,
     "start_time": "2021-04-24T06:09:36.985938",
     "status": "completed"
    },
    "tags": []
   },
   "outputs": [
    {
     "data": {
      "text/html": [
       "<div>\n",
       "<style scoped>\n",
       "    .dataframe tbody tr th:only-of-type {\n",
       "        vertical-align: middle;\n",
       "    }\n",
       "\n",
       "    .dataframe tbody tr th {\n",
       "        vertical-align: top;\n",
       "    }\n",
       "\n",
       "    .dataframe thead th {\n",
       "        text-align: right;\n",
       "    }\n",
       "</style>\n",
       "<table border=\"1\" class=\"dataframe\">\n",
       "  <thead>\n",
       "    <tr style=\"text-align: right;\">\n",
       "      <th></th>\n",
       "      <th>id</th>\n",
       "      <th>title</th>\n",
       "      <th>author</th>\n",
       "      <th>text</th>\n",
       "    </tr>\n",
       "  </thead>\n",
       "  <tbody>\n",
       "    <tr>\n",
       "      <th>0</th>\n",
       "      <td>20800</td>\n",
       "      <td>Specter of Trump Loosens Tongues, if Not Purse...</td>\n",
       "      <td>David Streitfeld</td>\n",
       "      <td>PALO ALTO, Calif.  —   After years of scorning...</td>\n",
       "    </tr>\n",
       "    <tr>\n",
       "      <th>1</th>\n",
       "      <td>20801</td>\n",
       "      <td>Russian warships ready to strike terrorists ne...</td>\n",
       "      <td>NaN</td>\n",
       "      <td>Russian warships ready to strike terrorists ne...</td>\n",
       "    </tr>\n",
       "    <tr>\n",
       "      <th>2</th>\n",
       "      <td>20802</td>\n",
       "      <td>#NoDAPL: Native American Leaders Vow to Stay A...</td>\n",
       "      <td>Common Dreams</td>\n",
       "      <td>Videos #NoDAPL: Native American Leaders Vow to...</td>\n",
       "    </tr>\n",
       "    <tr>\n",
       "      <th>3</th>\n",
       "      <td>20803</td>\n",
       "      <td>Tim Tebow Will Attempt Another Comeback, This ...</td>\n",
       "      <td>Daniel Victor</td>\n",
       "      <td>If at first you don’t succeed, try a different...</td>\n",
       "    </tr>\n",
       "    <tr>\n",
       "      <th>4</th>\n",
       "      <td>20804</td>\n",
       "      <td>Keiser Report: Meme Wars (E995)</td>\n",
       "      <td>Truth Broadcast Network</td>\n",
       "      <td>42 mins ago 1 Views 0 Comments 0 Likes 'For th...</td>\n",
       "    </tr>\n",
       "  </tbody>\n",
       "</table>\n",
       "</div>"
      ],
      "text/plain": [
       "      id                                              title  \\\n",
       "0  20800  Specter of Trump Loosens Tongues, if Not Purse...   \n",
       "1  20801  Russian warships ready to strike terrorists ne...   \n",
       "2  20802  #NoDAPL: Native American Leaders Vow to Stay A...   \n",
       "3  20803  Tim Tebow Will Attempt Another Comeback, This ...   \n",
       "4  20804                    Keiser Report: Meme Wars (E995)   \n",
       "\n",
       "                    author                                               text  \n",
       "0         David Streitfeld  PALO ALTO, Calif.  —   After years of scorning...  \n",
       "1                      NaN  Russian warships ready to strike terrorists ne...  \n",
       "2            Common Dreams  Videos #NoDAPL: Native American Leaders Vow to...  \n",
       "3            Daniel Victor  If at first you don’t succeed, try a different...  \n",
       "4  Truth Broadcast Network  42 mins ago 1 Views 0 Comments 0 Likes 'For th...  "
      ]
     },
     "execution_count": 3,
     "metadata": {},
     "output_type": "execute_result"
    }
   ],
   "source": [
    "test.head()"
   ]
  },
  {
   "cell_type": "code",
   "execution_count": 4,
   "id": "documented-acrobat",
   "metadata": {
    "execution": {
     "iopub.execute_input": "2021-04-24T06:09:37.096950Z",
     "iopub.status.busy": "2021-04-24T06:09:37.096112Z",
     "iopub.status.idle": "2021-04-24T06:09:37.100928Z",
     "shell.execute_reply": "2021-04-24T06:09:37.100444Z"
    },
    "papermill": {
     "duration": 0.040823,
     "end_time": "2021-04-24T06:09:37.101079",
     "exception": false,
     "start_time": "2021-04-24T06:09:37.060256",
     "status": "completed"
    },
    "tags": []
   },
   "outputs": [
    {
     "name": "stdout",
     "output_type": "stream",
     "text": [
      "There are 20800 number of rows and 5 number of columns for training.\n",
      "There are 5200 number of rows and 4 number of columns for testing.\n"
     ]
    }
   ],
   "source": [
    "# Displaying rows and columns in dataset\n",
    "print(\"There are {} number of rows and {} number of columns for training.\".format(train.shape[0],train.shape[1]))\n",
    "print(\"There are {} number of rows and {} number of columns for testing.\".format(test.shape[0],test.shape[1]))"
   ]
  },
  {
   "cell_type": "markdown",
   "id": "bound-departure",
   "metadata": {
    "papermill": {
     "duration": 0.028949,
     "end_time": "2021-04-24T06:09:37.159602",
     "exception": false,
     "start_time": "2021-04-24T06:09:37.130653",
     "status": "completed"
    },
    "tags": []
   },
   "source": [
    "**Checking Null Values**"
   ]
  },
  {
   "cell_type": "code",
   "execution_count": 5,
   "id": "tamil-horse",
   "metadata": {
    "execution": {
     "iopub.execute_input": "2021-04-24T06:09:37.231801Z",
     "iopub.status.busy": "2021-04-24T06:09:37.230875Z",
     "iopub.status.idle": "2021-04-24T06:09:37.238038Z",
     "shell.execute_reply": "2021-04-24T06:09:37.237532Z"
    },
    "papermill": {
     "duration": 0.049253,
     "end_time": "2021-04-24T06:09:37.238281",
     "exception": false,
     "start_time": "2021-04-24T06:09:37.189028",
     "status": "completed"
    },
    "tags": []
   },
   "outputs": [
    {
     "data": {
      "text/plain": [
       "id           0\n",
       "title      558\n",
       "author    1957\n",
       "text        39\n",
       "label        0\n",
       "dtype: int64"
      ]
     },
     "execution_count": 5,
     "metadata": {},
     "output_type": "execute_result"
    }
   ],
   "source": [
    "# Checking the null values in training data.\n",
    "train.isnull().sum()"
   ]
  },
  {
   "cell_type": "code",
   "execution_count": 6,
   "id": "pediatric-parameter",
   "metadata": {
    "execution": {
     "iopub.execute_input": "2021-04-24T06:09:37.307362Z",
     "iopub.status.busy": "2021-04-24T06:09:37.306474Z",
     "iopub.status.idle": "2021-04-24T06:09:37.310241Z",
     "shell.execute_reply": "2021-04-24T06:09:37.310695Z"
    },
    "papermill": {
     "duration": 0.042807,
     "end_time": "2021-04-24T06:09:37.310855",
     "exception": false,
     "start_time": "2021-04-24T06:09:37.268048",
     "status": "completed"
    },
    "tags": []
   },
   "outputs": [
    {
     "data": {
      "text/plain": [
       "id          0\n",
       "title     122\n",
       "author    503\n",
       "text        7\n",
       "dtype: int64"
      ]
     },
     "execution_count": 6,
     "metadata": {},
     "output_type": "execute_result"
    }
   ],
   "source": [
    "# Checking the null values in testing data.\n",
    "test.isnull().sum()"
   ]
  },
  {
   "cell_type": "code",
   "execution_count": 7,
   "id": "brief-honor",
   "metadata": {
    "execution": {
     "iopub.execute_input": "2021-04-24T06:09:37.384298Z",
     "iopub.status.busy": "2021-04-24T06:09:37.383308Z",
     "iopub.status.idle": "2021-04-24T06:09:37.393623Z",
     "shell.execute_reply": "2021-04-24T06:09:37.393113Z"
    },
    "papermill": {
     "duration": 0.053598,
     "end_time": "2021-04-24T06:09:37.393764",
     "exception": false,
     "start_time": "2021-04-24T06:09:37.340166",
     "status": "completed"
    },
    "tags": []
   },
   "outputs": [],
   "source": [
    "# Handling nan values in dataset using empty spaces\n",
    "def handle_nan(train_data,test_data):\n",
    "    '''Input: Data to the function containing Nan values.\n",
    "       Output : Cleaned data containing no Nan values.\n",
    "       Function: Cleaning Nan values.\n",
    "     '''\n",
    "    train = train_data.fillna(\" \")\n",
    "    test  = test_data.fillna(\" \")\n",
    "    return train,test\n",
    "\n",
    "train,test = handle_nan(train,test)\n"
   ]
  },
  {
   "cell_type": "code",
   "execution_count": 8,
   "id": "approximate-radio",
   "metadata": {
    "execution": {
     "iopub.execute_input": "2021-04-24T06:09:37.463196Z",
     "iopub.status.busy": "2021-04-24T06:09:37.462359Z",
     "iopub.status.idle": "2021-04-24T06:09:37.499005Z",
     "shell.execute_reply": "2021-04-24T06:09:37.498015Z"
    },
    "papermill": {
     "duration": 0.074502,
     "end_time": "2021-04-24T06:09:37.499162",
     "exception": false,
     "start_time": "2021-04-24T06:09:37.424660",
     "status": "completed"
    },
    "tags": []
   },
   "outputs": [],
   "source": [
    "# Creating a variable \"merged\" by merging columns \"title\" and \"author\"\n",
    "train[\"merged\"] = train[\"title\"]+\" \"+ train[\"author\"]\n",
    "test[\"merged\"]  = test[\"title\"]+\" \"+ test[\"author\"]"
   ]
  },
  {
   "cell_type": "code",
   "execution_count": 9,
   "id": "harmful-catalog",
   "metadata": {
    "execution": {
     "iopub.execute_input": "2021-04-24T06:09:37.568349Z",
     "iopub.status.busy": "2021-04-24T06:09:37.567217Z",
     "iopub.status.idle": "2021-04-24T06:09:37.579148Z",
     "shell.execute_reply": "2021-04-24T06:09:37.578592Z"
    },
    "papermill": {
     "duration": 0.049049,
     "end_time": "2021-04-24T06:09:37.579289",
     "exception": false,
     "start_time": "2021-04-24T06:09:37.530240",
     "status": "completed"
    },
    "tags": []
   },
   "outputs": [],
   "source": [
    "# Seperating Independent and dependent features\n",
    "X = train.drop(columns=['label'],axis=1)\n",
    "y = train['label']"
   ]
  },
  {
   "cell_type": "code",
   "execution_count": 10,
   "id": "persistent-fetish",
   "metadata": {
    "execution": {
     "iopub.execute_input": "2021-04-24T06:09:37.650672Z",
     "iopub.status.busy": "2021-04-24T06:09:37.649601Z",
     "iopub.status.idle": "2021-04-24T06:09:37.657298Z",
     "shell.execute_reply": "2021-04-24T06:09:37.657843Z"
    },
    "papermill": {
     "duration": 0.046399,
     "end_time": "2021-04-24T06:09:37.658022",
     "exception": false,
     "start_time": "2021-04-24T06:09:37.611623",
     "status": "completed"
    },
    "tags": []
   },
   "outputs": [],
   "source": [
    "# Creating One-Hot Representations\n",
    "messages = X.copy()\n",
    "messages.reset_index(inplace=True)\n",
    "messages_test = test.copy()\n",
    "messages_test.reset_index(inplace=True)"
   ]
  },
  {
   "cell_type": "code",
   "execution_count": 11,
   "id": "fb7c994e",
   "metadata": {},
   "outputs": [
    {
     "data": {
      "text/plain": [
       "'House Dem Aide: We Didn’t Even See Comey’s Letter Until Jason Chaffetz Tweeted It By Darrell Lucus on October 30, 2016 Subscribe Jason Chaffetz on the stump in American Fork, Utah ( image courtesy Michael Jolley, available under a Creative Commons-BY license) \\nWith apologies to Keith Olbermann, there is no doubt who the Worst Person in The World is this week–FBI Director James Comey. But according to a House Democratic aide, it looks like we also know who the second-worst person is as well. It turns out that when Comey sent his now-infamous letter announcing that the FBI was looking into emails that may be related to Hillary Clinton’s email server, the ranking Democrats on the relevant committees didn’t hear about it from Comey. They found out via a tweet from one of the Republican committee chairmen. \\nAs we now know, Comey notified the Republican chairmen and Democratic ranking members of the House Intelligence, Judiciary, and Oversight committees that his agency was reviewing emails it had recently discovered in order to see if they contained classified information. Not long after this letter went out, Oversight Committee Chairman Jason Chaffetz set the political world ablaze with this tweet. FBI Dir just informed me, \"The FBI has learned of the existence of emails that appear to be pertinent to the investigation.\" Case reopened \\n— Jason Chaffetz (@jasoninthehouse) October 28, 2016 \\nOf course, we now know that this was not the case . Comey was actually saying that it was reviewing the emails in light of “an unrelated case”–which we now know to be Anthony Weiner’s sexting with a teenager. But apparently such little things as facts didn’t matter to Chaffetz. The Utah Republican had already vowed to initiate a raft of investigations if Hillary wins–at least two years’ worth, and possibly an entire term’s worth of them. Apparently Chaffetz thought the FBI was already doing his work for him–resulting in a tweet that briefly roiled the nation before cooler heads realized it was a dud. \\nBut according to a senior House Democratic aide, misreading that letter may have been the least of Chaffetz’ sins. That aide told Shareblue that his boss and other Democrats didn’t even know about Comey’s letter at the time–and only found out when they checked Twitter. “Democratic Ranking Members on the relevant committees didn’t receive Comey’s letter until after the Republican Chairmen. In fact, the Democratic Ranking Members didn’ receive it until after the Chairman of the Oversight and Government Reform Committee, Jason Chaffetz, tweeted it out and made it public.” \\nSo let’s see if we’ve got this right. The FBI director tells Chaffetz and other GOP committee chairmen about a major development in a potentially politically explosive investigation, and neither Chaffetz nor his other colleagues had the courtesy to let their Democratic counterparts know about it. Instead, according to this aide, he made them find out about it on Twitter. \\nThere has already been talk on Daily Kos that Comey himself provided advance notice of this letter to Chaffetz and other Republicans, giving them time to turn on the spin machine. That may make for good theater, but there is nothing so far that even suggests this is the case. After all, there is nothing so far that suggests that Comey was anything other than grossly incompetent and tone-deaf. \\nWhat it does suggest, however, is that Chaffetz is acting in a way that makes Dan Burton and Darrell Issa look like models of responsibility and bipartisanship. He didn’t even have the decency to notify ranking member Elijah Cummings about something this explosive. If that doesn’t trample on basic standards of fairness, I don’t know what does. \\nGranted, it’s not likely that Chaffetz will have to answer for this. He sits in a ridiculously Republican district anchored in Provo and Orem; it has a Cook Partisan Voting Index of R+25, and gave Mitt Romney a punishing 78 percent of the vote in 2012. Moreover, the Republican House leadership has given its full support to Chaffetz’ planned fishing expedition. But that doesn’t mean we can’t turn the hot lights on him. After all, he is a textbook example of what the House has become under Republican control. And he is also the Second Worst Person in the World. About Darrell Lucus \\nDarrell is a 30-something graduate of the University of North Carolina who considers himself a journalist of the old school. An attempt to turn him into a member of the religious right in college only succeeded in turning him into the religious right\\'s worst nightmare--a charismatic Christian who is an unapologetic liberal. His desire to stand up for those who have been scared into silence only increased when he survived an abusive three-year marriage. You may know him on Daily Kos as Christian Dem in NC . Follow him on Twitter @DarrellLucus or connect with him on Facebook . Click here to buy Darrell a Mello Yello. Connect'"
      ]
     },
     "execution_count": 11,
     "metadata": {},
     "output_type": "execute_result"
    }
   ],
   "source": [
    "messages[\"text\"][0]"
   ]
  },
  {
   "cell_type": "code",
   "execution_count": 12,
   "id": "7c0bd623",
   "metadata": {},
   "outputs": [
    {
     "data": {
      "text/html": [
       "<div>\n",
       "<style scoped>\n",
       "    .dataframe tbody tr th:only-of-type {\n",
       "        vertical-align: middle;\n",
       "    }\n",
       "\n",
       "    .dataframe tbody tr th {\n",
       "        vertical-align: top;\n",
       "    }\n",
       "\n",
       "    .dataframe thead th {\n",
       "        text-align: right;\n",
       "    }\n",
       "</style>\n",
       "<table border=\"1\" class=\"dataframe\">\n",
       "  <thead>\n",
       "    <tr style=\"text-align: right;\">\n",
       "      <th></th>\n",
       "      <th>index</th>\n",
       "      <th>id</th>\n",
       "      <th>title</th>\n",
       "      <th>author</th>\n",
       "      <th>text</th>\n",
       "      <th>merged</th>\n",
       "    </tr>\n",
       "  </thead>\n",
       "  <tbody>\n",
       "    <tr>\n",
       "      <th>0</th>\n",
       "      <td>0</td>\n",
       "      <td>0</td>\n",
       "      <td>House Dem Aide: We Didn’t Even See Comey’s Let...</td>\n",
       "      <td>Darrell Lucus</td>\n",
       "      <td>House Dem Aide: We Didn’t Even See Comey’s Let...</td>\n",
       "      <td>House Dem Aide: We Didn’t Even See Comey’s Let...</td>\n",
       "    </tr>\n",
       "    <tr>\n",
       "      <th>1</th>\n",
       "      <td>1</td>\n",
       "      <td>1</td>\n",
       "      <td>FLYNN: Hillary Clinton, Big Woman on Campus - ...</td>\n",
       "      <td>Daniel J. Flynn</td>\n",
       "      <td>Ever get the feeling your life circles the rou...</td>\n",
       "      <td>FLYNN: Hillary Clinton, Big Woman on Campus - ...</td>\n",
       "    </tr>\n",
       "    <tr>\n",
       "      <th>2</th>\n",
       "      <td>2</td>\n",
       "      <td>2</td>\n",
       "      <td>Why the Truth Might Get You Fired</td>\n",
       "      <td>Consortiumnews.com</td>\n",
       "      <td>Why the Truth Might Get You Fired October 29, ...</td>\n",
       "      <td>Why the Truth Might Get You Fired Consortiumne...</td>\n",
       "    </tr>\n",
       "    <tr>\n",
       "      <th>3</th>\n",
       "      <td>3</td>\n",
       "      <td>3</td>\n",
       "      <td>15 Civilians Killed In Single US Airstrike Hav...</td>\n",
       "      <td>Jessica Purkiss</td>\n",
       "      <td>Videos 15 Civilians Killed In Single US Airstr...</td>\n",
       "      <td>15 Civilians Killed In Single US Airstrike Hav...</td>\n",
       "    </tr>\n",
       "    <tr>\n",
       "      <th>4</th>\n",
       "      <td>4</td>\n",
       "      <td>4</td>\n",
       "      <td>Iranian woman jailed for fictional unpublished...</td>\n",
       "      <td>Howard Portnoy</td>\n",
       "      <td>Print \\nAn Iranian woman has been sentenced to...</td>\n",
       "      <td>Iranian woman jailed for fictional unpublished...</td>\n",
       "    </tr>\n",
       "  </tbody>\n",
       "</table>\n",
       "</div>"
      ],
      "text/plain": [
       "   index  id                                              title  \\\n",
       "0      0   0  House Dem Aide: We Didn’t Even See Comey’s Let...   \n",
       "1      1   1  FLYNN: Hillary Clinton, Big Woman on Campus - ...   \n",
       "2      2   2                  Why the Truth Might Get You Fired   \n",
       "3      3   3  15 Civilians Killed In Single US Airstrike Hav...   \n",
       "4      4   4  Iranian woman jailed for fictional unpublished...   \n",
       "\n",
       "               author                                               text  \\\n",
       "0       Darrell Lucus  House Dem Aide: We Didn’t Even See Comey’s Let...   \n",
       "1     Daniel J. Flynn  Ever get the feeling your life circles the rou...   \n",
       "2  Consortiumnews.com  Why the Truth Might Get You Fired October 29, ...   \n",
       "3     Jessica Purkiss  Videos 15 Civilians Killed In Single US Airstr...   \n",
       "4      Howard Portnoy  Print \\nAn Iranian woman has been sentenced to...   \n",
       "\n",
       "                                              merged  \n",
       "0  House Dem Aide: We Didn’t Even See Comey’s Let...  \n",
       "1  FLYNN: Hillary Clinton, Big Woman on Campus - ...  \n",
       "2  Why the Truth Might Get You Fired Consortiumne...  \n",
       "3  15 Civilians Killed In Single US Airstrike Hav...  \n",
       "4  Iranian woman jailed for fictional unpublished...  "
      ]
     },
     "execution_count": 12,
     "metadata": {},
     "output_type": "execute_result"
    }
   ],
   "source": [
    "messages.head()"
   ]
  },
  {
   "cell_type": "code",
   "execution_count": 13,
   "id": "c4dde4cb",
   "metadata": {},
   "outputs": [
    {
     "data": {
      "text/html": [
       "<div>\n",
       "<style scoped>\n",
       "    .dataframe tbody tr th:only-of-type {\n",
       "        vertical-align: middle;\n",
       "    }\n",
       "\n",
       "    .dataframe tbody tr th {\n",
       "        vertical-align: top;\n",
       "    }\n",
       "\n",
       "    .dataframe thead th {\n",
       "        text-align: right;\n",
       "    }\n",
       "</style>\n",
       "<table border=\"1\" class=\"dataframe\">\n",
       "  <thead>\n",
       "    <tr style=\"text-align: right;\">\n",
       "      <th></th>\n",
       "      <th>index</th>\n",
       "      <th>id</th>\n",
       "      <th>title</th>\n",
       "      <th>author</th>\n",
       "      <th>text</th>\n",
       "      <th>merged</th>\n",
       "    </tr>\n",
       "  </thead>\n",
       "  <tbody>\n",
       "    <tr>\n",
       "      <th>0</th>\n",
       "      <td>0</td>\n",
       "      <td>20800</td>\n",
       "      <td>Specter of Trump Loosens Tongues, if Not Purse...</td>\n",
       "      <td>David Streitfeld</td>\n",
       "      <td>PALO ALTO, Calif.  —   After years of scorning...</td>\n",
       "      <td>Specter of Trump Loosens Tongues, if Not Purse...</td>\n",
       "    </tr>\n",
       "    <tr>\n",
       "      <th>1</th>\n",
       "      <td>1</td>\n",
       "      <td>20801</td>\n",
       "      <td>Russian warships ready to strike terrorists ne...</td>\n",
       "      <td></td>\n",
       "      <td>Russian warships ready to strike terrorists ne...</td>\n",
       "      <td>Russian warships ready to strike terrorists ne...</td>\n",
       "    </tr>\n",
       "    <tr>\n",
       "      <th>2</th>\n",
       "      <td>2</td>\n",
       "      <td>20802</td>\n",
       "      <td>#NoDAPL: Native American Leaders Vow to Stay A...</td>\n",
       "      <td>Common Dreams</td>\n",
       "      <td>Videos #NoDAPL: Native American Leaders Vow to...</td>\n",
       "      <td>#NoDAPL: Native American Leaders Vow to Stay A...</td>\n",
       "    </tr>\n",
       "    <tr>\n",
       "      <th>3</th>\n",
       "      <td>3</td>\n",
       "      <td>20803</td>\n",
       "      <td>Tim Tebow Will Attempt Another Comeback, This ...</td>\n",
       "      <td>Daniel Victor</td>\n",
       "      <td>If at first you don’t succeed, try a different...</td>\n",
       "      <td>Tim Tebow Will Attempt Another Comeback, This ...</td>\n",
       "    </tr>\n",
       "    <tr>\n",
       "      <th>4</th>\n",
       "      <td>4</td>\n",
       "      <td>20804</td>\n",
       "      <td>Keiser Report: Meme Wars (E995)</td>\n",
       "      <td>Truth Broadcast Network</td>\n",
       "      <td>42 mins ago 1 Views 0 Comments 0 Likes 'For th...</td>\n",
       "      <td>Keiser Report: Meme Wars (E995) Truth Broadcas...</td>\n",
       "    </tr>\n",
       "  </tbody>\n",
       "</table>\n",
       "</div>"
      ],
      "text/plain": [
       "   index     id                                              title  \\\n",
       "0      0  20800  Specter of Trump Loosens Tongues, if Not Purse...   \n",
       "1      1  20801  Russian warships ready to strike terrorists ne...   \n",
       "2      2  20802  #NoDAPL: Native American Leaders Vow to Stay A...   \n",
       "3      3  20803  Tim Tebow Will Attempt Another Comeback, This ...   \n",
       "4      4  20804                    Keiser Report: Meme Wars (E995)   \n",
       "\n",
       "                    author                                               text  \\\n",
       "0         David Streitfeld  PALO ALTO, Calif.  —   After years of scorning...   \n",
       "1                           Russian warships ready to strike terrorists ne...   \n",
       "2            Common Dreams  Videos #NoDAPL: Native American Leaders Vow to...   \n",
       "3            Daniel Victor  If at first you don’t succeed, try a different...   \n",
       "4  Truth Broadcast Network  42 mins ago 1 Views 0 Comments 0 Likes 'For th...   \n",
       "\n",
       "                                              merged  \n",
       "0  Specter of Trump Loosens Tongues, if Not Purse...  \n",
       "1  Russian warships ready to strike terrorists ne...  \n",
       "2  #NoDAPL: Native American Leaders Vow to Stay A...  \n",
       "3  Tim Tebow Will Attempt Another Comeback, This ...  \n",
       "4  Keiser Report: Meme Wars (E995) Truth Broadcas...  "
      ]
     },
     "execution_count": 13,
     "metadata": {},
     "output_type": "execute_result"
    }
   ],
   "source": [
    "messages_test.head()"
   ]
  },
  {
   "cell_type": "markdown",
   "id": "taken-negotiation",
   "metadata": {
    "papermill": {
     "duration": 0.031333,
     "end_time": "2021-04-24T06:09:37.721583",
     "exception": false,
     "start_time": "2021-04-24T06:09:37.690250",
     "status": "completed"
    },
    "tags": []
   },
   "source": [
    "# Data Pre-processing\n",
    "**In Data Pre-processing following steps are followed:** \n",
    "**1. Firstly, all the sequences except english characters are removed from the string.**\n",
    "**2. Next, to avoid false predictions or ambiguity with upper and lowercase, all the characters in strings are converted    to lowercase.**\n",
    "**3. Next, all the sentences are tokenized into words.**\n",
    "**4. To facilitate fast processing, stemming is applied to the tokenized words.**\n",
    "**5. Next, words are joined together and stored in the corpus.**\n",
    "\n",
    "**Note: In this tutorial, we have used \"merged\" column for classification task. Also, the loop inside the function runs over all the examples in the merged column.**"
   ]
  },
  {
   "cell_type": "code",
   "execution_count": 14,
   "id": "expected-neighbor",
   "metadata": {
    "execution": {
     "iopub.execute_input": "2021-04-24T06:09:37.795326Z",
     "iopub.status.busy": "2021-04-24T06:09:37.794323Z",
     "iopub.status.idle": "2021-04-24T06:10:32.250147Z",
     "shell.execute_reply": "2021-04-24T06:10:32.250689Z"
    },
    "papermill": {
     "duration": 54.497618,
     "end_time": "2021-04-24T06:10:32.250847",
     "exception": false,
     "start_time": "2021-04-24T06:09:37.753229",
     "status": "completed"
    },
    "tags": []
   },
   "outputs": [
    {
     "data": {
      "text/plain": [
       "'flynn hillari clinton big woman campu breitbart daniel j flynn'"
      ]
     },
     "execution_count": 14,
     "metadata": {},
     "output_type": "execute_result"
    }
   ],
   "source": [
    "# Performing data preprocessing on column 'title'\n",
    "from nltk.stem.porter import PorterStemmer\n",
    "ps = PorterStemmer()\n",
    "def perform_preprocess(data):\n",
    "    '''Input: Data to be processed\n",
    "       Output: Preprocessed data\n",
    "    '''\n",
    "    corpus = []\n",
    "    for i in range(0,len(data)):\n",
    "        review = re.sub('[^a-zA-Z]',' ',data['merged'][i])\n",
    "        review = review.lower()\n",
    "        review = review.split()\n",
    "        review = [ps.stem(word) for word in review if word not in stopwords.words('english')]\n",
    "        review = ' '.join(review)\n",
    "        corpus.append(review)\n",
    "    return corpus\n",
    "    \n",
    "train_corpus = perform_preprocess(messages)\n",
    "test_corpus  = perform_preprocess(messages_test)\n",
    "train_corpus[1]"
   ]
  },
  {
   "cell_type": "code",
   "execution_count": 15,
   "id": "printable-isaac",
   "metadata": {
    "execution": {
     "iopub.execute_input": "2021-04-24T06:10:32.313006Z",
     "iopub.status.busy": "2021-04-24T06:10:32.312193Z",
     "iopub.status.idle": "2021-04-24T06:10:32.315651Z",
     "shell.execute_reply": "2021-04-24T06:10:32.316046Z"
    },
    "papermill": {
     "duration": 0.037042,
     "end_time": "2021-04-24T06:10:32.316180",
     "exception": false,
     "start_time": "2021-04-24T06:10:32.279138",
     "status": "completed"
    },
    "tags": []
   },
   "outputs": [
    {
     "data": {
      "text/plain": [
       "'russian warship readi strike terrorist near aleppo'"
      ]
     },
     "execution_count": 15,
     "metadata": {},
     "output_type": "execute_result"
    }
   ],
   "source": [
    "test_corpus[1]"
   ]
  },
  {
   "cell_type": "markdown",
   "id": "pediatric-translator",
   "metadata": {
    "papermill": {
     "duration": 0.028343,
     "end_time": "2021-04-24T06:10:32.372744",
     "exception": false,
     "start_time": "2021-04-24T06:10:32.344401",
     "status": "completed"
    },
    "tags": []
   },
   "source": [
    "**Below code converts the pre-processed words to one-hot vectors in the range of vocabulary size=5000. This is done to obtain numerical feature matrix**"
   ]
  },
  {
   "cell_type": "code",
   "execution_count": 16,
   "id": "economic-allergy",
   "metadata": {
    "execution": {
     "iopub.execute_input": "2021-04-24T06:10:32.453681Z",
     "iopub.status.busy": "2021-04-24T06:10:32.448588Z",
     "iopub.status.idle": "2021-04-24T06:10:32.764062Z",
     "shell.execute_reply": "2021-04-24T06:10:32.763601Z"
    },
    "papermill": {
     "duration": 0.3634,
     "end_time": "2021-04-24T06:10:32.764200",
     "exception": false,
     "start_time": "2021-04-24T06:10:32.400800",
     "status": "completed"
    },
    "tags": []
   },
   "outputs": [],
   "source": [
    "# Converting to one-hot repr.\n",
    "vocab_size = 5000\n",
    "one_hot_train = [one_hot(word,vocab_size) for word in train_corpus]\n",
    "one_hot_test  = [one_hot(word,vocab_size) for word in test_corpus]"
   ]
  },
  {
   "cell_type": "code",
   "execution_count": 17,
   "id": "three-lemon",
   "metadata": {
    "execution": {
     "iopub.execute_input": "2021-04-24T06:10:32.825499Z",
     "iopub.status.busy": "2021-04-24T06:10:32.824956Z",
     "iopub.status.idle": "2021-04-24T06:10:32.830896Z",
     "shell.execute_reply": "2021-04-24T06:10:32.830451Z"
    },
    "papermill": {
     "duration": 0.038526,
     "end_time": "2021-04-24T06:10:32.831020",
     "exception": false,
     "start_time": "2021-04-24T06:10:32.792494",
     "status": "completed"
    },
    "tags": []
   },
   "outputs": [
    {
     "data": {
      "text/plain": [
       "[4518, 1052, 2195, 4414, 2598, 978, 3256]"
      ]
     },
     "execution_count": 17,
     "metadata": {},
     "output_type": "execute_result"
    }
   ],
   "source": [
    "one_hot_test[1]"
   ]
  },
  {
   "cell_type": "markdown",
   "id": "enclosed-steam",
   "metadata": {
    "papermill": {
     "duration": 0.029189,
     "end_time": "2021-04-24T06:10:32.888995",
     "exception": false,
     "start_time": "2021-04-24T06:10:32.859806",
     "status": "completed"
    },
    "tags": []
   },
   "source": [
    "**Below code creates an embedding layer which applies \"pre\" padding to the one-hot encoded features with sentence length = 20. Padding is applied so that the length of every sequence in the dataset should be same.**"
   ]
  },
  {
   "cell_type": "code",
   "execution_count": 18,
   "id": "frequent-driver",
   "metadata": {
    "execution": {
     "iopub.execute_input": "2021-04-24T06:10:32.955332Z",
     "iopub.status.busy": "2021-04-24T06:10:32.954546Z",
     "iopub.status.idle": "2021-04-24T06:10:33.139938Z",
     "shell.execute_reply": "2021-04-24T06:10:33.140692Z"
    },
    "papermill": {
     "duration": 0.223139,
     "end_time": "2021-04-24T06:10:33.140894",
     "exception": false,
     "start_time": "2021-04-24T06:10:32.917755",
     "status": "completed"
    },
    "tags": []
   },
   "outputs": [
    {
     "name": "stdout",
     "output_type": "stream",
     "text": [
      "[[   0    0    0 ... 3501  542  898]\n",
      " [   0    0    0 ... 1857 1422 1512]\n",
      " [   0    0    0 ... 3787 4199 1154]\n",
      " ...\n",
      " [   0    0    0 ... 3216 2373 2331]\n",
      " [   0    0    0 ... 1795 1793 1945]\n",
      " [   0    0    0 ... 3981 4468 4131]]\n"
     ]
    }
   ],
   "source": [
    "# Embedding Representation \n",
    "sent_length = 20\n",
    "embedd_docs_train = pad_sequences(one_hot_train,padding='pre',maxlen=sent_length)\n",
    "embedd_docs_test  = pad_sequences(one_hot_test,padding='pre',maxlen=sent_length)\n",
    "print(embedd_docs_train)"
   ]
  },
  {
   "cell_type": "code",
   "execution_count": 19,
   "id": "943b868a",
   "metadata": {},
   "outputs": [
    {
     "data": {
      "text/plain": [
       "array([   0,    0,    0,    0,    0,    0,    0,    0, 4261, 2317, 3696,\n",
       "       1554, 1653, 3140, 2596, 2151, 4043, 3501,  542,  898])"
      ]
     },
     "execution_count": 19,
     "metadata": {},
     "output_type": "execute_result"
    }
   ],
   "source": [
    "embedd_docs_train[0]"
   ]
  },
  {
   "cell_type": "code",
   "execution_count": 20,
   "id": "civil-teach",
   "metadata": {
    "execution": {
     "iopub.execute_input": "2021-04-24T06:10:33.212287Z",
     "iopub.status.busy": "2021-04-24T06:10:33.210668Z",
     "iopub.status.idle": "2021-04-24T06:10:33.214919Z",
     "shell.execute_reply": "2021-04-24T06:10:33.214284Z"
    },
    "papermill": {
     "duration": 0.041224,
     "end_time": "2021-04-24T06:10:33.215080",
     "exception": false,
     "start_time": "2021-04-24T06:10:33.173856",
     "status": "completed"
    },
    "tags": []
   },
   "outputs": [
    {
     "name": "stdout",
     "output_type": "stream",
     "text": [
      "[[   0    0    0 ... 3919 4468 3967]\n",
      " [   0    0    0 ... 2598  978 3256]\n",
      " [   0    0    0 ... 4734 4851  596]\n",
      " ...\n",
      " [   0    0    0 ... 3919 3886 2904]\n",
      " [   0    0    0 ... 4518 4515 3796]\n",
      " [   0    0    0 ... 3919 3187  949]]\n"
     ]
    }
   ],
   "source": [
    "print(embedd_docs_test)"
   ]
  },
  {
   "cell_type": "code",
   "execution_count": 21,
   "id": "therapeutic-witness",
   "metadata": {
    "execution": {
     "iopub.execute_input": "2021-04-24T06:10:33.281834Z",
     "iopub.status.busy": "2021-04-24T06:10:33.280947Z",
     "iopub.status.idle": "2021-04-24T06:10:33.285462Z",
     "shell.execute_reply": "2021-04-24T06:10:33.285039Z"
    },
    "papermill": {
     "duration": 0.039306,
     "end_time": "2021-04-24T06:10:33.285599",
     "exception": false,
     "start_time": "2021-04-24T06:10:33.246293",
     "status": "completed"
    },
    "tags": []
   },
   "outputs": [],
   "source": [
    "# Converting Embedding repr. to array\n",
    "x_final = np.array(embedd_docs_train)\n",
    "y_final = np.array(y)\n",
    "x_test_final = np.array(embedd_docs_test)"
   ]
  },
  {
   "cell_type": "code",
   "execution_count": 22,
   "id": "sophisticated-warehouse",
   "metadata": {
    "execution": {
     "iopub.execute_input": "2021-04-24T06:10:33.351976Z",
     "iopub.status.busy": "2021-04-24T06:10:33.351288Z",
     "iopub.status.idle": "2021-04-24T06:10:33.354356Z",
     "shell.execute_reply": "2021-04-24T06:10:33.354814Z"
    },
    "papermill": {
     "duration": 0.038988,
     "end_time": "2021-04-24T06:10:33.354952",
     "exception": false,
     "start_time": "2021-04-24T06:10:33.315964",
     "status": "completed"
    },
    "tags": []
   },
   "outputs": [
    {
     "data": {
      "text/plain": [
       "((20800, 20), (20800,), (5200, 20))"
      ]
     },
     "execution_count": 22,
     "metadata": {},
     "output_type": "execute_result"
    }
   ],
   "source": [
    "# Dimensions of prev. array repr.\n",
    "x_final.shape,y_final.shape,x_test_final.shape"
   ]
  },
  {
   "cell_type": "markdown",
   "id": "decimal-business",
   "metadata": {
    "papermill": {
     "duration": 0.030394,
     "end_time": "2021-04-24T06:10:33.415857",
     "exception": false,
     "start_time": "2021-04-24T06:10:33.385463",
     "status": "completed"
    },
    "tags": []
   },
   "source": [
    "**Dividing the dataset into training,validation and testing data (ratio: 80/10/10) using train_test_split technique.**"
   ]
  },
  {
   "cell_type": "code",
   "execution_count": 23,
   "id": "floppy-divide",
   "metadata": {
    "execution": {
     "iopub.execute_input": "2021-04-24T06:10:33.484108Z",
     "iopub.status.busy": "2021-04-24T06:10:33.483148Z",
     "iopub.status.idle": "2021-04-24T06:10:33.518138Z",
     "shell.execute_reply": "2021-04-24T06:10:33.517642Z"
    },
    "papermill": {
     "duration": 0.071135,
     "end_time": "2021-04-24T06:10:33.518266",
     "exception": false,
     "start_time": "2021-04-24T06:10:33.447131",
     "status": "completed"
    },
    "tags": []
   },
   "outputs": [],
   "source": [
    "from sklearn.model_selection import train_test_split\n",
    "x_train, x_test, y_train, y_test = train_test_split(x_final, y_final, test_size=0.1, random_state=42, stratify = y_final)\n",
    "X_train, x_valid, Y_train, y_valid = train_test_split(x_train, y_train, test_size=0.1, random_state=42, stratify = y_train)\n",
    "x_test_final = x_test_final"
   ]
  },
  {
   "cell_type": "markdown",
   "id": "outstanding-there",
   "metadata": {
    "papermill": {
     "duration": 0.030769,
     "end_time": "2021-04-24T06:10:33.580032",
     "exception": false,
     "start_time": "2021-04-24T06:10:33.549263",
     "status": "completed"
    },
    "tags": []
   },
   "source": [
    "# Creating Models\n",
    "**In this phase, several models are created and evaluated against various metrics shown using classification report.**"
   ]
  },
  {
   "cell_type": "markdown",
   "id": "69a6bf0e",
   "metadata": {},
   "source": [
    "## Baseline Models"
   ]
  },
  {
   "cell_type": "code",
   "execution_count": 24,
   "id": "9433e688",
   "metadata": {},
   "outputs": [],
   "source": [
    "from sklearn.linear_model import LogisticRegression\n",
    "from sklearn.tree import DecisionTreeClassifier\n",
    "from sklearn.neighbors import KNeighborsClassifier\n",
    "from sklearn.ensemble import RandomForestClassifier\n",
    "from xgboost import XGBClassifier\n",
    "from catboost import CatBoostClassifier\n",
    "from sklearn.linear_model import LogisticRegression\n",
    "from sklearn.naive_bayes import MultinomialNB\n",
    "\n",
    "from sklearn.model_selection import train_test_split, cross_val_score\n",
    "from sklearn.model_selection import RandomizedSearchCV, GridSearchCV\n",
    "from sklearn.metrics import classification_report, accuracy_score\n",
    "from sklearn.metrics import confusion_matrix\n",
    "from sklearn.metrics import precision_score, recall_score, f1_score\n",
    "from sklearn.metrics import plot_roc_curve"
   ]
  },
  {
   "cell_type": "code",
   "execution_count": 25,
   "id": "de9df172",
   "metadata": {},
   "outputs": [],
   "source": [
    "# Put models in a dictionary\n",
    "models = {\"Logistic Regression\": LogisticRegression(),\n",
    "          \"KNN\": KNeighborsClassifier(),\n",
    "          \"Random Forest\": RandomForestClassifier(),\n",
    "          \"Naive Bayes\": MultinomialNB(),\n",
    "          \"Decision Tree Classifier\": DecisionTreeClassifier(),\n",
    "          \"XGBoost Classifier\": XGBClassifier(),\n",
    "          \"CatBoost Classifier\": CatBoostClassifier(iterations=150)}\n",
    "\n",
    "# Create a function to fit and score models\n",
    "def fit_and_score(models, X_train, x_test, Y_train, y_test):\n",
    "    \"\"\"\n",
    "    Fits and evaluates given machine learning models.\n",
    "    models: a dict of different Scikit-Learn Machine Learning models\n",
    "    X_train: Training data (no labels)\n",
    "    X_test: Testing data (no labels)\n",
    "    y_train: Training labels\n",
    "    y_test: Test labels\n",
    "    \"\"\"\n",
    "    \n",
    "    # Set random seed\n",
    "    np.random.seed(12)\n",
    "    \n",
    "    # Make a dictionary to keep model scores\n",
    "    model_scores = {}\n",
    "    \n",
    "    # Loop through models\n",
    "    for name, model in models.items():\n",
    "        # Fit the model to the data\n",
    "        model.fit(X_train, Y_train)\n",
    "        # Evaluate the model and append its score to model_scores\n",
    "        model_scores[name] = model.score(x_test, y_test)\n",
    "        \n",
    "    return model_scores"
   ]
  },
  {
   "cell_type": "code",
   "execution_count": 26,
   "id": "8d4c193d",
   "metadata": {},
   "outputs": [
    {
     "name": "stderr",
     "output_type": "stream",
     "text": [
      "C:\\Users\\khand\\anaconda3\\lib\\site-packages\\sklearn\\linear_model\\_logistic.py:765: ConvergenceWarning: lbfgs failed to converge (status=1):\n",
      "STOP: TOTAL NO. of ITERATIONS REACHED LIMIT.\n",
      "\n",
      "Increase the number of iterations (max_iter) or scale the data as shown in:\n",
      "    https://scikit-learn.org/stable/modules/preprocessing.html\n",
      "Please also refer to the documentation for alternative solver options:\n",
      "    https://scikit-learn.org/stable/modules/linear_model.html#logistic-regression\n",
      "  extra_warning_msg=_LOGISTIC_SOLVER_CONVERGENCE_MSG)\n"
     ]
    },
    {
     "name": "stdout",
     "output_type": "stream",
     "text": [
      "Learning rate set to 0.195972\n",
      "0:\tlearn: 0.5581795\ttotal: 178ms\tremaining: 26.6s\n",
      "1:\tlearn: 0.4870047\ttotal: 191ms\tremaining: 14.1s\n",
      "2:\tlearn: 0.4259445\ttotal: 203ms\tremaining: 9.92s\n",
      "3:\tlearn: 0.4006294\ttotal: 212ms\tremaining: 7.74s\n",
      "4:\tlearn: 0.3761002\ttotal: 223ms\tremaining: 6.46s\n",
      "5:\tlearn: 0.3555799\ttotal: 234ms\tremaining: 5.62s\n",
      "6:\tlearn: 0.3422021\ttotal: 246ms\tremaining: 5.03s\n",
      "7:\tlearn: 0.3325227\ttotal: 258ms\tremaining: 4.58s\n",
      "8:\tlearn: 0.3241758\ttotal: 270ms\tremaining: 4.23s\n",
      "9:\tlearn: 0.3095919\ttotal: 280ms\tremaining: 3.92s\n",
      "10:\tlearn: 0.3028136\ttotal: 292ms\tremaining: 3.69s\n",
      "11:\tlearn: 0.2931129\ttotal: 307ms\tremaining: 3.53s\n",
      "12:\tlearn: 0.2862085\ttotal: 323ms\tremaining: 3.41s\n",
      "13:\tlearn: 0.2813794\ttotal: 337ms\tremaining: 3.27s\n",
      "14:\tlearn: 0.2735053\ttotal: 349ms\tremaining: 3.14s\n",
      "15:\tlearn: 0.2698570\ttotal: 363ms\tremaining: 3.04s\n",
      "16:\tlearn: 0.2669111\ttotal: 383ms\tremaining: 3s\n",
      "17:\tlearn: 0.2629596\ttotal: 399ms\tremaining: 2.92s\n",
      "18:\tlearn: 0.2608315\ttotal: 413ms\tremaining: 2.85s\n",
      "19:\tlearn: 0.2577963\ttotal: 425ms\tremaining: 2.76s\n",
      "20:\tlearn: 0.2535427\ttotal: 437ms\tremaining: 2.68s\n",
      "21:\tlearn: 0.2452963\ttotal: 450ms\tremaining: 2.62s\n",
      "22:\tlearn: 0.2417920\ttotal: 464ms\tremaining: 2.56s\n",
      "23:\tlearn: 0.2393640\ttotal: 498ms\tremaining: 2.61s\n",
      "24:\tlearn: 0.2343193\ttotal: 520ms\tremaining: 2.6s\n",
      "25:\tlearn: 0.2301982\ttotal: 540ms\tremaining: 2.57s\n",
      "26:\tlearn: 0.2278823\ttotal: 560ms\tremaining: 2.55s\n",
      "27:\tlearn: 0.2246461\ttotal: 577ms\tremaining: 2.51s\n",
      "28:\tlearn: 0.2185976\ttotal: 591ms\tremaining: 2.47s\n",
      "29:\tlearn: 0.2172084\ttotal: 605ms\tremaining: 2.42s\n",
      "30:\tlearn: 0.2160436\ttotal: 617ms\tremaining: 2.37s\n",
      "31:\tlearn: 0.2139628\ttotal: 633ms\tremaining: 2.33s\n",
      "32:\tlearn: 0.2096728\ttotal: 648ms\tremaining: 2.3s\n",
      "33:\tlearn: 0.2078329\ttotal: 662ms\tremaining: 2.26s\n",
      "34:\tlearn: 0.2050408\ttotal: 676ms\tremaining: 2.22s\n",
      "35:\tlearn: 0.2039459\ttotal: 690ms\tremaining: 2.18s\n",
      "36:\tlearn: 0.2016216\ttotal: 701ms\tremaining: 2.14s\n",
      "37:\tlearn: 0.1999837\ttotal: 713ms\tremaining: 2.1s\n",
      "38:\tlearn: 0.1966214\ttotal: 726ms\tremaining: 2.06s\n",
      "39:\tlearn: 0.1950655\ttotal: 736ms\tremaining: 2.02s\n",
      "40:\tlearn: 0.1916310\ttotal: 745ms\tremaining: 1.98s\n",
      "41:\tlearn: 0.1895931\ttotal: 758ms\tremaining: 1.95s\n",
      "42:\tlearn: 0.1877797\ttotal: 768ms\tremaining: 1.91s\n",
      "43:\tlearn: 0.1859748\ttotal: 778ms\tremaining: 1.87s\n",
      "44:\tlearn: 0.1827041\ttotal: 790ms\tremaining: 1.84s\n",
      "45:\tlearn: 0.1805086\ttotal: 801ms\tremaining: 1.81s\n",
      "46:\tlearn: 0.1794537\ttotal: 812ms\tremaining: 1.78s\n",
      "47:\tlearn: 0.1776394\ttotal: 824ms\tremaining: 1.75s\n",
      "48:\tlearn: 0.1761870\ttotal: 835ms\tremaining: 1.72s\n",
      "49:\tlearn: 0.1732842\ttotal: 845ms\tremaining: 1.69s\n",
      "50:\tlearn: 0.1697654\ttotal: 856ms\tremaining: 1.66s\n",
      "51:\tlearn: 0.1670984\ttotal: 866ms\tremaining: 1.63s\n",
      "52:\tlearn: 0.1647214\ttotal: 877ms\tremaining: 1.6s\n",
      "53:\tlearn: 0.1634096\ttotal: 889ms\tremaining: 1.58s\n",
      "54:\tlearn: 0.1620821\ttotal: 900ms\tremaining: 1.55s\n",
      "55:\tlearn: 0.1599858\ttotal: 912ms\tremaining: 1.53s\n",
      "56:\tlearn: 0.1588903\ttotal: 924ms\tremaining: 1.51s\n",
      "57:\tlearn: 0.1567812\ttotal: 938ms\tremaining: 1.49s\n",
      "58:\tlearn: 0.1555574\ttotal: 950ms\tremaining: 1.47s\n",
      "59:\tlearn: 0.1535170\ttotal: 963ms\tremaining: 1.44s\n",
      "60:\tlearn: 0.1501111\ttotal: 976ms\tremaining: 1.42s\n",
      "61:\tlearn: 0.1477701\ttotal: 989ms\tremaining: 1.4s\n",
      "62:\tlearn: 0.1454341\ttotal: 1s\tremaining: 1.38s\n",
      "63:\tlearn: 0.1433889\ttotal: 1.01s\tremaining: 1.36s\n",
      "64:\tlearn: 0.1414952\ttotal: 1.02s\tremaining: 1.34s\n",
      "65:\tlearn: 0.1396267\ttotal: 1.04s\tremaining: 1.32s\n",
      "66:\tlearn: 0.1381558\ttotal: 1.05s\tremaining: 1.3s\n",
      "67:\tlearn: 0.1365269\ttotal: 1.06s\tremaining: 1.28s\n",
      "68:\tlearn: 0.1352910\ttotal: 1.08s\tremaining: 1.26s\n",
      "69:\tlearn: 0.1330830\ttotal: 1.09s\tremaining: 1.25s\n",
      "70:\tlearn: 0.1318536\ttotal: 1.1s\tremaining: 1.23s\n",
      "71:\tlearn: 0.1296760\ttotal: 1.12s\tremaining: 1.21s\n",
      "72:\tlearn: 0.1280307\ttotal: 1.13s\tremaining: 1.19s\n",
      "73:\tlearn: 0.1273122\ttotal: 1.14s\tremaining: 1.17s\n",
      "74:\tlearn: 0.1263304\ttotal: 1.16s\tremaining: 1.16s\n",
      "75:\tlearn: 0.1243647\ttotal: 1.17s\tremaining: 1.14s\n",
      "76:\tlearn: 0.1235924\ttotal: 1.18s\tremaining: 1.12s\n",
      "77:\tlearn: 0.1229483\ttotal: 1.21s\tremaining: 1.12s\n",
      "78:\tlearn: 0.1208053\ttotal: 1.22s\tremaining: 1.1s\n",
      "79:\tlearn: 0.1201193\ttotal: 1.23s\tremaining: 1.08s\n",
      "80:\tlearn: 0.1183201\ttotal: 1.25s\tremaining: 1.06s\n",
      "81:\tlearn: 0.1170745\ttotal: 1.26s\tremaining: 1.04s\n",
      "82:\tlearn: 0.1160855\ttotal: 1.27s\tremaining: 1.02s\n",
      "83:\tlearn: 0.1152785\ttotal: 1.28s\tremaining: 1s\n",
      "84:\tlearn: 0.1140485\ttotal: 1.29s\tremaining: 986ms\n",
      "85:\tlearn: 0.1128616\ttotal: 1.3s\tremaining: 968ms\n",
      "86:\tlearn: 0.1119848\ttotal: 1.31s\tremaining: 949ms\n",
      "87:\tlearn: 0.1100646\ttotal: 1.32s\tremaining: 931ms\n",
      "88:\tlearn: 0.1087017\ttotal: 1.33s\tremaining: 914ms\n",
      "89:\tlearn: 0.1080022\ttotal: 1.34s\tremaining: 896ms\n",
      "90:\tlearn: 0.1071228\ttotal: 1.35s\tremaining: 879ms\n",
      "91:\tlearn: 0.1059377\ttotal: 1.37s\tremaining: 864ms\n",
      "92:\tlearn: 0.1047912\ttotal: 1.38s\tremaining: 847ms\n",
      "93:\tlearn: 0.1042096\ttotal: 1.39s\tremaining: 830ms\n",
      "94:\tlearn: 0.1032600\ttotal: 1.4s\tremaining: 813ms\n",
      "95:\tlearn: 0.1018078\ttotal: 1.42s\tremaining: 796ms\n",
      "96:\tlearn: 0.1005984\ttotal: 1.43s\tremaining: 780ms\n",
      "97:\tlearn: 0.0991280\ttotal: 1.44s\tremaining: 764ms\n",
      "98:\tlearn: 0.0981867\ttotal: 1.45s\tremaining: 747ms\n",
      "99:\tlearn: 0.0970977\ttotal: 1.46s\tremaining: 731ms\n",
      "100:\tlearn: 0.0964030\ttotal: 1.47s\tremaining: 715ms\n",
      "101:\tlearn: 0.0949469\ttotal: 1.48s\tremaining: 698ms\n",
      "102:\tlearn: 0.0941406\ttotal: 1.49s\tremaining: 682ms\n",
      "103:\tlearn: 0.0930363\ttotal: 1.5s\tremaining: 666ms\n",
      "104:\tlearn: 0.0924321\ttotal: 1.52s\tremaining: 650ms\n",
      "105:\tlearn: 0.0916933\ttotal: 1.53s\tremaining: 634ms\n",
      "106:\tlearn: 0.0909470\ttotal: 1.54s\tremaining: 618ms\n",
      "107:\tlearn: 0.0898518\ttotal: 1.55s\tremaining: 602ms\n",
      "108:\tlearn: 0.0893146\ttotal: 1.56s\tremaining: 587ms\n",
      "109:\tlearn: 0.0887529\ttotal: 1.57s\tremaining: 571ms\n",
      "110:\tlearn: 0.0878674\ttotal: 1.58s\tremaining: 556ms\n",
      "111:\tlearn: 0.0873271\ttotal: 1.59s\tremaining: 540ms\n",
      "112:\tlearn: 0.0868106\ttotal: 1.6s\tremaining: 525ms\n",
      "113:\tlearn: 0.0865476\ttotal: 1.61s\tremaining: 510ms\n",
      "114:\tlearn: 0.0855800\ttotal: 1.63s\tremaining: 495ms\n",
      "115:\tlearn: 0.0844279\ttotal: 1.64s\tremaining: 480ms\n",
      "116:\tlearn: 0.0832262\ttotal: 1.65s\tremaining: 465ms\n",
      "117:\tlearn: 0.0828545\ttotal: 1.66s\tremaining: 450ms\n",
      "118:\tlearn: 0.0818049\ttotal: 1.67s\tremaining: 435ms\n",
      "119:\tlearn: 0.0810409\ttotal: 1.68s\tremaining: 420ms\n",
      "120:\tlearn: 0.0805027\ttotal: 1.69s\tremaining: 405ms\n",
      "121:\tlearn: 0.0801093\ttotal: 1.7s\tremaining: 391ms\n",
      "122:\tlearn: 0.0793859\ttotal: 1.71s\tremaining: 376ms\n",
      "123:\tlearn: 0.0790674\ttotal: 1.73s\tremaining: 362ms\n",
      "124:\tlearn: 0.0783854\ttotal: 1.74s\tremaining: 347ms\n",
      "125:\tlearn: 0.0781484\ttotal: 1.75s\tremaining: 332ms\n",
      "126:\tlearn: 0.0775963\ttotal: 1.76s\tremaining: 318ms\n",
      "127:\tlearn: 0.0766514\ttotal: 1.77s\tremaining: 304ms\n",
      "128:\tlearn: 0.0762530\ttotal: 1.78s\tremaining: 289ms\n",
      "129:\tlearn: 0.0756858\ttotal: 1.79s\tremaining: 275ms\n",
      "130:\tlearn: 0.0753279\ttotal: 1.8s\tremaining: 261ms\n",
      "131:\tlearn: 0.0748805\ttotal: 1.81s\tremaining: 247ms\n",
      "132:\tlearn: 0.0746885\ttotal: 1.82s\tremaining: 233ms\n",
      "133:\tlearn: 0.0736982\ttotal: 1.83s\tremaining: 219ms\n",
      "134:\tlearn: 0.0731240\ttotal: 1.84s\tremaining: 205ms\n",
      "135:\tlearn: 0.0726922\ttotal: 1.85s\tremaining: 191ms\n",
      "136:\tlearn: 0.0722311\ttotal: 1.86s\tremaining: 177ms\n",
      "137:\tlearn: 0.0714911\ttotal: 1.87s\tremaining: 163ms\n",
      "138:\tlearn: 0.0709033\ttotal: 1.89s\tremaining: 149ms\n",
      "139:\tlearn: 0.0702257\ttotal: 1.9s\tremaining: 135ms\n",
      "140:\tlearn: 0.0693120\ttotal: 1.91s\tremaining: 122ms\n",
      "141:\tlearn: 0.0685777\ttotal: 1.92s\tremaining: 108ms\n",
      "142:\tlearn: 0.0683747\ttotal: 1.93s\tremaining: 94.4ms\n",
      "143:\tlearn: 0.0680290\ttotal: 1.94s\tremaining: 80.8ms\n",
      "144:\tlearn: 0.0676746\ttotal: 1.95s\tremaining: 67.2ms\n",
      "145:\tlearn: 0.0672210\ttotal: 1.96s\tremaining: 53.7ms\n",
      "146:\tlearn: 0.0667922\ttotal: 1.97s\tremaining: 40.2ms\n",
      "147:\tlearn: 0.0664932\ttotal: 1.98s\tremaining: 26.8ms\n",
      "148:\tlearn: 0.0662411\ttotal: 1.99s\tremaining: 13.4ms\n",
      "149:\tlearn: 0.0660007\ttotal: 2s\tremaining: 0us\n"
     ]
    },
    {
     "data": {
      "text/plain": [
       "{'Logistic Regression': 0.698076923076923,\n",
       " 'KNN': 0.7668269230769231,\n",
       " 'Random Forest': 0.9024038461538462,\n",
       " 'Naive Bayes': 0.6538461538461539,\n",
       " 'Decision Tree Classifier': 0.9158653846153846,\n",
       " 'XGBoost Classifier': 0.916826923076923,\n",
       " 'CatBoost Classifier': 0.9754807692307692}"
      ]
     },
     "execution_count": 26,
     "metadata": {},
     "output_type": "execute_result"
    }
   ],
   "source": [
    "model_scores = fit_and_score(models=models, X_train=X_train, x_test=x_test, Y_train=Y_train, y_test=y_test)\n",
    "model_scores"
   ]
  },
  {
   "cell_type": "markdown",
   "id": "colonial-dryer",
   "metadata": {
    "papermill": {
     "duration": 0.030252,
     "end_time": "2021-04-24T06:10:33.641000",
     "exception": false,
     "start_time": "2021-04-24T06:10:33.610748",
     "status": "completed"
    },
    "tags": []
   },
   "source": [
    "**1. Logistic Regresssion**"
   ]
  },
  {
   "cell_type": "code",
   "execution_count": 27,
   "id": "realistic-merchandise",
   "metadata": {
    "execution": {
     "iopub.execute_input": "2021-04-24T06:10:33.708354Z",
     "iopub.status.busy": "2021-04-24T06:10:33.707412Z",
     "iopub.status.idle": "2021-04-24T06:10:34.492276Z",
     "shell.execute_reply": "2021-04-24T06:10:34.493735Z"
    },
    "papermill": {
     "duration": 0.821975,
     "end_time": "2021-04-24T06:10:34.493942",
     "exception": false,
     "start_time": "2021-04-24T06:10:33.671967",
     "status": "completed"
    },
    "tags": []
   },
   "outputs": [],
   "source": [
    "# model_1 = LogisticRegression(max_iter=150)\n",
    "# model_1.fit(X_train,Y_train)\n",
    "# pred_1 = model_1.predict(x_test)\n",
    "# cr1    = classification_report(y_test,pred_1)\n",
    "# print(cr1)"
   ]
  },
  {
   "cell_type": "markdown",
   "id": "western-scratch",
   "metadata": {
    "papermill": {
     "duration": 0.056264,
     "end_time": "2021-04-24T06:10:34.642128",
     "exception": false,
     "start_time": "2021-04-24T06:10:34.585864",
     "status": "completed"
    },
    "tags": []
   },
   "source": [
    "**2. Naive Bayes**"
   ]
  },
  {
   "cell_type": "code",
   "execution_count": 28,
   "id": "cognitive-respondent",
   "metadata": {
    "execution": {
     "iopub.execute_input": "2021-04-24T06:10:34.768702Z",
     "iopub.status.busy": "2021-04-24T06:10:34.767755Z",
     "iopub.status.idle": "2021-04-24T06:10:34.793854Z",
     "shell.execute_reply": "2021-04-24T06:10:34.794533Z"
    },
    "papermill": {
     "duration": 0.095847,
     "end_time": "2021-04-24T06:10:34.794783",
     "exception": false,
     "start_time": "2021-04-24T06:10:34.698936",
     "status": "completed"
    },
    "tags": []
   },
   "outputs": [],
   "source": [
    "# model_2 = MultinomialNB()\n",
    "# model_2.fit(X_train,Y_train)\n",
    "# pred_2 = model_2.predict(x_test)\n",
    "# cr2    = classification_report(y_test,pred_2)\n",
    "# print(cr2)"
   ]
  },
  {
   "cell_type": "markdown",
   "id": "adverse-finder",
   "metadata": {
    "papermill": {
     "duration": 0.054694,
     "end_time": "2021-04-24T06:10:34.915701",
     "exception": false,
     "start_time": "2021-04-24T06:10:34.861007",
     "status": "completed"
    },
    "tags": []
   },
   "source": [
    "**3. Decision Trees**"
   ]
  },
  {
   "cell_type": "code",
   "execution_count": 29,
   "id": "parliamentary-width",
   "metadata": {
    "execution": {
     "iopub.execute_input": "2021-04-24T06:10:35.025257Z",
     "iopub.status.busy": "2021-04-24T06:10:35.024595Z",
     "iopub.status.idle": "2021-04-24T06:10:35.290849Z",
     "shell.execute_reply": "2021-04-24T06:10:35.291776Z"
    },
    "papermill": {
     "duration": 0.330978,
     "end_time": "2021-04-24T06:10:35.291966",
     "exception": false,
     "start_time": "2021-04-24T06:10:34.960988",
     "status": "completed"
    },
    "tags": []
   },
   "outputs": [],
   "source": [
    "# model_3 = DecisionTreeClassifier()\n",
    "# model_3.fit(X_train,Y_train)\n",
    "# pred_3 = model_3.predict(x_test)\n",
    "# cr3    = classification_report(y_test,pred_3)\n",
    "# print(cr3)"
   ]
  },
  {
   "cell_type": "markdown",
   "id": "retired-tobago",
   "metadata": {
    "papermill": {
     "duration": 0.048039,
     "end_time": "2021-04-24T06:10:35.389617",
     "exception": false,
     "start_time": "2021-04-24T06:10:35.341578",
     "status": "completed"
    },
    "tags": []
   },
   "source": [
    "**4. Random Forest**"
   ]
  },
  {
   "cell_type": "code",
   "execution_count": 30,
   "id": "built-bargain",
   "metadata": {
    "execution": {
     "iopub.execute_input": "2021-04-24T06:10:35.497352Z",
     "iopub.status.busy": "2021-04-24T06:10:35.496635Z",
     "iopub.status.idle": "2021-04-24T06:10:38.616737Z",
     "shell.execute_reply": "2021-04-24T06:10:38.616078Z"
    },
    "papermill": {
     "duration": 3.178312,
     "end_time": "2021-04-24T06:10:38.616901",
     "exception": false,
     "start_time": "2021-04-24T06:10:35.438589",
     "status": "completed"
    },
    "tags": []
   },
   "outputs": [],
   "source": [
    "# model_4 = RandomForestClassifier()\n",
    "# model_4.fit(X_train,Y_train)\n",
    "# pred_4 = model_4.predict(x_test)\n",
    "# cr4    = classification_report(y_test,pred_4)\n",
    "# print(cr4)"
   ]
  },
  {
   "cell_type": "markdown",
   "id": "developmental-cornwall",
   "metadata": {
    "papermill": {
     "duration": 0.052353,
     "end_time": "2021-04-24T06:10:38.722466",
     "exception": false,
     "start_time": "2021-04-24T06:10:38.670113",
     "status": "completed"
    },
    "tags": []
   },
   "source": [
    "**5. XGBOOST**"
   ]
  },
  {
   "cell_type": "code",
   "execution_count": 31,
   "id": "congressional-berlin",
   "metadata": {
    "execution": {
     "iopub.execute_input": "2021-04-24T06:10:38.834684Z",
     "iopub.status.busy": "2021-04-24T06:10:38.833993Z",
     "iopub.status.idle": "2021-04-24T06:10:44.681315Z",
     "shell.execute_reply": "2021-04-24T06:10:44.681834Z"
    },
    "papermill": {
     "duration": 5.907179,
     "end_time": "2021-04-24T06:10:44.682012",
     "exception": false,
     "start_time": "2021-04-24T06:10:38.774833",
     "status": "completed"
    },
    "tags": []
   },
   "outputs": [],
   "source": [
    "# model_5 = XGBClassifier()\n",
    "# model_5.fit(X_train,Y_train)\n",
    "# pred_5 = model_5.predict(x_test)\n",
    "# cr5    = classification_report(y_test,pred_5)\n",
    "# print(cr5)"
   ]
  },
  {
   "cell_type": "markdown",
   "id": "filled-charity",
   "metadata": {
    "papermill": {
     "duration": 0.033318,
     "end_time": "2021-04-24T06:10:44.749736",
     "exception": false,
     "start_time": "2021-04-24T06:10:44.716418",
     "status": "completed"
    },
    "tags": []
   },
   "source": [
    "**6.Catboost**"
   ]
  },
  {
   "cell_type": "code",
   "execution_count": 32,
   "id": "taken-functionality",
   "metadata": {
    "execution": {
     "iopub.execute_input": "2021-04-24T06:10:44.978756Z",
     "iopub.status.busy": "2021-04-24T06:10:44.831427Z",
     "iopub.status.idle": "2021-04-24T06:10:48.010153Z",
     "shell.execute_reply": "2021-04-24T06:10:48.010658Z"
    },
    "papermill": {
     "duration": 3.227673,
     "end_time": "2021-04-24T06:10:48.010817",
     "exception": false,
     "start_time": "2021-04-24T06:10:44.783144",
     "status": "completed"
    },
    "tags": []
   },
   "outputs": [],
   "source": [
    "# model_6 = CatBoostClassifier(iterations=150)\n",
    "# model_6.fit(X_train,Y_train)\n",
    "# pred_6 = model_5.predict(x_test)\n",
    "# cr6    = classification_report(y_test,pred_5)\n",
    "# print(cr6)"
   ]
  },
  {
   "cell_type": "markdown",
   "id": "promotional-nurse",
   "metadata": {
    "papermill": {
     "duration": 0.039666,
     "end_time": "2021-04-24T06:10:48.090710",
     "exception": false,
     "start_time": "2021-04-24T06:10:48.051044",
     "status": "completed"
    },
    "tags": []
   },
   "source": [
    "**7. LSTM**\n",
    "\n",
    "**In this model, 1.) The value for embedding feature vectors = 40 which are target feature vectors for the embedding layer. 2.) Single LSTM Layer with 100 nodes are used. 3.)Dense Layer with 1 neuron and sigmoid activation function is used since, this is a binary classification problem. 4) Dropout technique is used to avoid overfiiting and adam optimizer is used for optimizing the loss function.**"
   ]
  },
  {
   "cell_type": "code",
   "execution_count": 33,
   "id": "abandoned-brazil",
   "metadata": {
    "execution": {
     "iopub.execute_input": "2021-04-24T06:10:48.173538Z",
     "iopub.status.busy": "2021-04-24T06:10:48.172991Z",
     "iopub.status.idle": "2021-04-24T06:10:52.521541Z",
     "shell.execute_reply": "2021-04-24T06:10:52.520930Z"
    },
    "papermill": {
     "duration": 4.391849,
     "end_time": "2021-04-24T06:10:52.521714",
     "exception": false,
     "start_time": "2021-04-24T06:10:48.129865",
     "status": "completed"
    },
    "tags": []
   },
   "outputs": [
    {
     "name": "stdout",
     "output_type": "stream",
     "text": [
      "Model: \"sequential\"\n",
      "_________________________________________________________________\n",
      "Layer (type)                 Output Shape              Param #   \n",
      "=================================================================\n",
      "embedding (Embedding)        (None, 20, 40)            200000    \n",
      "_________________________________________________________________\n",
      "dropout (Dropout)            (None, 20, 40)            0         \n",
      "_________________________________________________________________\n",
      "lstm (LSTM)                  (None, 100)               56400     \n",
      "_________________________________________________________________\n",
      "dropout_1 (Dropout)          (None, 100)               0         \n",
      "_________________________________________________________________\n",
      "dense (Dense)                (None, 1)                 101       \n",
      "=================================================================\n",
      "Total params: 256,501\n",
      "Trainable params: 256,501\n",
      "Non-trainable params: 0\n",
      "_________________________________________________________________\n",
      "None\n"
     ]
    }
   ],
   "source": [
    "# Creating the LSTM Model for prediction\n",
    "embedding_feature_vector = 40\n",
    "model = Sequential()\n",
    "model.add(Embedding(vocab_size,embedding_feature_vector,input_length=sent_length))\n",
    "model.add(Dropout(0.3))\n",
    "model.add(LSTM(100))\n",
    "model.add(Dropout(0.3))\n",
    "model.add(Dense(1,activation='sigmoid'))\n",
    "model.compile(loss='binary_crossentropy',optimizer='adam',metrics=['accuracy'])\n",
    "print(model.summary())"
   ]
  },
  {
   "cell_type": "code",
   "execution_count": 34,
   "id": "micro-federation",
   "metadata": {
    "execution": {
     "iopub.execute_input": "2021-04-24T06:10:52.604156Z",
     "iopub.status.busy": "2021-04-24T06:10:52.603529Z",
     "iopub.status.idle": "2021-04-24T06:11:23.118921Z",
     "shell.execute_reply": "2021-04-24T06:11:23.119348Z"
    },
    "papermill": {
     "duration": 30.559349,
     "end_time": "2021-04-24T06:11:23.119577",
     "exception": false,
     "start_time": "2021-04-24T06:10:52.560228",
     "status": "completed"
    },
    "tags": []
   },
   "outputs": [
    {
     "name": "stdout",
     "output_type": "stream",
     "text": [
      "Epoch 1/10\n",
      "264/264 [==============================] - 6s 17ms/step - loss: 0.3848 - accuracy: 0.8133 - val_loss: 0.0506 - val_accuracy: 0.9813\n",
      "Epoch 2/10\n",
      "264/264 [==============================] - 4s 14ms/step - loss: 0.0280 - accuracy: 0.9914 - val_loss: 0.0289 - val_accuracy: 0.9915\n",
      "Epoch 3/10\n",
      "264/264 [==============================] - 4s 14ms/step - loss: 0.0142 - accuracy: 0.9960 - val_loss: 0.0227 - val_accuracy: 0.9920\n",
      "Epoch 4/10\n",
      "264/264 [==============================] - 4s 15ms/step - loss: 0.0055 - accuracy: 0.9981 - val_loss: 0.0291 - val_accuracy: 0.9915\n",
      "Epoch 5/10\n",
      "264/264 [==============================] - 4s 15ms/step - loss: 0.0052 - accuracy: 0.9988 - val_loss: 0.0251 - val_accuracy: 0.9920\n",
      "Epoch 6/10\n",
      "264/264 [==============================] - 4s 14ms/step - loss: 0.0012 - accuracy: 1.0000 - val_loss: 0.0269 - val_accuracy: 0.9909\n",
      "Epoch 7/10\n",
      "264/264 [==============================] - 4s 14ms/step - loss: 0.0030 - accuracy: 0.9992 - val_loss: 0.0276 - val_accuracy: 0.9909\n",
      "Epoch 8/10\n",
      "264/264 [==============================] - 4s 14ms/step - loss: 6.7297e-04 - accuracy: 1.0000 - val_loss: 0.0268 - val_accuracy: 0.9931\n",
      "Epoch 9/10\n",
      "264/264 [==============================] - 4s 14ms/step - loss: 2.9147e-04 - accuracy: 1.0000 - val_loss: 0.0308 - val_accuracy: 0.9941\n",
      "Epoch 10/10\n",
      "264/264 [==============================] - 4s 14ms/step - loss: 2.3071e-04 - accuracy: 1.0000 - val_loss: 0.0516 - val_accuracy: 0.9866\n"
     ]
    },
    {
     "data": {
      "text/plain": [
       "<tensorflow.python.keras.callbacks.History at 0x1d43ea39888>"
      ]
     },
     "execution_count": 34,
     "metadata": {},
     "output_type": "execute_result"
    }
   ],
   "source": [
    "# Training the model\n",
    "model.fit(X_train,Y_train,validation_data=(x_valid,y_valid),epochs=10,batch_size=64)"
   ]
  },
  {
   "cell_type": "code",
   "execution_count": 35,
   "id": "c26e9682",
   "metadata": {},
   "outputs": [
    {
     "name": "stderr",
     "output_type": "stream",
     "text": [
      "C:\\Users\\khand\\anaconda3\\lib\\site-packages\\tensorflow\\python\\keras\\engine\\sequential.py:450: UserWarning: `model.predict_classes()` is deprecated and will be removed after 2021-01-01. Please use instead:* `np.argmax(model.predict(x), axis=-1)`,   if your model does multi-class classification   (e.g. if it uses a `softmax` last-layer activation).* `(model.predict(x) > 0.5).astype(\"int32\")`,   if your model does binary classification   (e.g. if it uses a `sigmoid` last-layer activation).\n",
      "  warnings.warn('`model.predict_classes()` is deprecated and '\n"
     ]
    },
    {
     "data": {
      "text/plain": [
       "0.9884615384615385"
      ]
     },
     "execution_count": 35,
     "metadata": {},
     "output_type": "execute_result"
    }
   ],
   "source": [
    "predictions = model.predict_classes(x_test)\n",
    "score_lstm = accuracy_score(y_test,predictions)\n",
    "score_lstm"
   ]
  },
  {
   "cell_type": "code",
   "execution_count": 36,
   "id": "perceived-savings",
   "metadata": {
    "execution": {
     "iopub.execute_input": "2021-04-24T06:11:23.466355Z",
     "iopub.status.busy": "2021-04-24T06:11:23.465724Z",
     "iopub.status.idle": "2021-04-24T06:11:23.982124Z",
     "shell.execute_reply": "2021-04-24T06:11:23.981162Z"
    },
    "papermill": {
     "duration": 0.691541,
     "end_time": "2021-04-24T06:11:23.982274",
     "exception": false,
     "start_time": "2021-04-24T06:11:23.290733",
     "status": "completed"
    },
    "tags": []
   },
   "outputs": [],
   "source": [
    "# predictions = model.predict_classes(x_test)\n",
    "# cr = classification_report(y_test,predictions)\n",
    "# print(cr)"
   ]
  },
  {
   "cell_type": "code",
   "execution_count": 37,
   "id": "1658e9f5",
   "metadata": {},
   "outputs": [
    {
     "data": {
      "text/html": [
       "<div>\n",
       "<style scoped>\n",
       "    .dataframe tbody tr th:only-of-type {\n",
       "        vertical-align: middle;\n",
       "    }\n",
       "\n",
       "    .dataframe tbody tr th {\n",
       "        vertical-align: top;\n",
       "    }\n",
       "\n",
       "    .dataframe thead th {\n",
       "        text-align: right;\n",
       "    }\n",
       "</style>\n",
       "<table border=\"1\" class=\"dataframe\">\n",
       "  <thead>\n",
       "    <tr style=\"text-align: right;\">\n",
       "      <th></th>\n",
       "      <th>Logistic Regression</th>\n",
       "      <th>KNN</th>\n",
       "      <th>Random Forest</th>\n",
       "      <th>Naive Bayes</th>\n",
       "      <th>Decision Tree Classifier</th>\n",
       "      <th>XGBoost Classifier</th>\n",
       "      <th>CatBoost Classifier</th>\n",
       "    </tr>\n",
       "  </thead>\n",
       "  <tbody>\n",
       "    <tr>\n",
       "      <th>Accuracy</th>\n",
       "      <td>0.698077</td>\n",
       "      <td>0.766827</td>\n",
       "      <td>0.902404</td>\n",
       "      <td>0.653846</td>\n",
       "      <td>0.915865</td>\n",
       "      <td>0.916827</td>\n",
       "      <td>0.975481</td>\n",
       "    </tr>\n",
       "  </tbody>\n",
       "</table>\n",
       "</div>"
      ],
      "text/plain": [
       "          Logistic Regression       KNN  Random Forest  Naive Bayes  \\\n",
       "Accuracy             0.698077  0.766827       0.902404     0.653846   \n",
       "\n",
       "          Decision Tree Classifier  XGBoost Classifier  CatBoost Classifier  \n",
       "Accuracy                  0.915865            0.916827             0.975481  "
      ]
     },
     "execution_count": 37,
     "metadata": {},
     "output_type": "execute_result"
    }
   ],
   "source": [
    "model_compare = pd.DataFrame(model_scores, index=[\"Accuracy\"])\n",
    "model_compare"
   ]
  },
  {
   "cell_type": "code",
   "execution_count": 38,
   "id": "14e4eef2",
   "metadata": {},
   "outputs": [],
   "source": [
    "model_compare[\"LSTM\"] = score_lstm"
   ]
  },
  {
   "cell_type": "code",
   "execution_count": 39,
   "id": "e3312d8a",
   "metadata": {},
   "outputs": [
    {
     "data": {
      "text/html": [
       "<div>\n",
       "<style scoped>\n",
       "    .dataframe tbody tr th:only-of-type {\n",
       "        vertical-align: middle;\n",
       "    }\n",
       "\n",
       "    .dataframe tbody tr th {\n",
       "        vertical-align: top;\n",
       "    }\n",
       "\n",
       "    .dataframe thead th {\n",
       "        text-align: right;\n",
       "    }\n",
       "</style>\n",
       "<table border=\"1\" class=\"dataframe\">\n",
       "  <thead>\n",
       "    <tr style=\"text-align: right;\">\n",
       "      <th></th>\n",
       "      <th>Logistic Regression</th>\n",
       "      <th>KNN</th>\n",
       "      <th>Random Forest</th>\n",
       "      <th>Naive Bayes</th>\n",
       "      <th>Decision Tree Classifier</th>\n",
       "      <th>XGBoost Classifier</th>\n",
       "      <th>CatBoost Classifier</th>\n",
       "      <th>LSTM</th>\n",
       "    </tr>\n",
       "  </thead>\n",
       "  <tbody>\n",
       "    <tr>\n",
       "      <th>Accuracy</th>\n",
       "      <td>0.698077</td>\n",
       "      <td>0.766827</td>\n",
       "      <td>0.902404</td>\n",
       "      <td>0.653846</td>\n",
       "      <td>0.915865</td>\n",
       "      <td>0.916827</td>\n",
       "      <td>0.975481</td>\n",
       "      <td>0.988462</td>\n",
       "    </tr>\n",
       "  </tbody>\n",
       "</table>\n",
       "</div>"
      ],
      "text/plain": [
       "          Logistic Regression       KNN  Random Forest  Naive Bayes  \\\n",
       "Accuracy             0.698077  0.766827       0.902404     0.653846   \n",
       "\n",
       "          Decision Tree Classifier  XGBoost Classifier  CatBoost Classifier  \\\n",
       "Accuracy                  0.915865            0.916827             0.975481   \n",
       "\n",
       "              LSTM  \n",
       "Accuracy  0.988462  "
      ]
     },
     "execution_count": 39,
     "metadata": {},
     "output_type": "execute_result"
    }
   ],
   "source": [
    "model_compare"
   ]
  },
  {
   "cell_type": "code",
   "execution_count": 40,
   "id": "c8cf09a9",
   "metadata": {},
   "outputs": [
    {
     "data": {
      "image/png": "[encoded data removed]",
      "text/plain": [
       "<Figure size 1440x720 with 1 Axes>"
      ]
     },
     "metadata": {
      "needs_background": "light"
     },
     "output_type": "display_data"
    }
   ],
   "source": [
    "model_compare.plot(kind=\"bar\", figsize=(20, 10));"
   ]
  },
  {
   "cell_type": "code",
   "execution_count": 41,
   "id": "4b446fcd",
   "metadata": {},
   "outputs": [
    {
     "data": {
      "image/png": "[encoded data removed]",
      "text/plain": [
       "<Figure size 1440x720 with 1 Axes>"
      ]
     },
     "metadata": {
      "needs_background": "light"
     },
     "output_type": "display_data"
    }
   ],
   "source": [
    "model_compare.plot(kind=\"bar\", color=['blue', 'red','pink','green', 'cyan', 'yellow', 'black','orange'], figsize=(20, 10));"
   ]
  },
  {
   "cell_type": "markdown",
   "id": "bd4a9272",
   "metadata": {},
   "source": [
    "# Confusion Matrix for All Models"
   ]
  },
  {
   "cell_type": "code",
   "execution_count": null,
   "id": "a693e123",
   "metadata": {},
   "outputs": [],
   "source": [
    "import seaborn as sns\n",
    "import matplotlib.pyplot as plt\n",
    "sns.set(font_scale=1.5)\n",
    "\n",
    "def plot_conf_mat(y_test, y_preds):\n",
    "    \n",
    "    fig, ax = plt.subplots(figsize=(8, 8))\n",
    "    ax = sns.heatmap(confusion_matrix(y_test, y_preds),\n",
    "                     annot=True,\n",
    "                     cbar=False)\n",
    "    plt.xlabel(\"True Label\")\n",
    "    plt.ylabel(f'Predicted Label using {model}')\n",
    "    \n",
    "plot_conf_mat(y_test, y_preds)"
   ]
  },
  {
   "cell_type": "markdown",
   "id": "victorian-canon",
   "metadata": {
    "papermill": {
     "duration": 0.174951,
     "end_time": "2021-04-24T06:11:24.334811",
     "exception": false,
     "start_time": "2021-04-24T06:11:24.159860",
     "status": "completed"
    },
    "tags": []
   },
   "source": [
    "# Evaluation of Models"
   ]
  },
  {
   "cell_type": "markdown",
   "id": "absent-future",
   "metadata": {
    "papermill": {
     "duration": 0.178314,
     "end_time": "2021-04-24T06:11:24.683085",
     "exception": false,
     "start_time": "2021-04-24T06:11:24.504771",
     "status": "completed"
    },
    "tags": []
   },
   "source": [
    "**Tabulating the results of various implemented models.**"
   ]
  },
  {
   "cell_type": "code",
   "execution_count": null,
   "id": "bridal-shelter",
   "metadata": {
    "execution": {
     "iopub.execute_input": "2021-04-24T06:11:25.053970Z",
     "iopub.status.busy": "2021-04-24T06:11:25.053212Z",
     "iopub.status.idle": "2021-04-24T06:11:25.071010Z",
     "shell.execute_reply": "2021-04-24T06:11:25.070432Z"
    },
    "papermill": {
     "duration": 0.206178,
     "end_time": "2021-04-24T06:11:25.071167",
     "exception": false,
     "start_time": "2021-04-24T06:11:24.864989",
     "status": "completed"
    },
    "tags": []
   },
   "outputs": [],
   "source": [
    "# score_1 = accuracy_score(y_test,pred_1)\n",
    "# score_2 = accuracy_score(y_test,pred_2)\n",
    "# score_3 = accuracy_score(y_test,pred_3)\n",
    "# score_4 = accuracy_score(y_test,pred_4)\n",
    "# score_5 = accuracy_score(y_test,pred_5)\n",
    "# score_6 = accuracy_score(y_test,pred_6)\n",
    "# score_7 = accuracy_score(y_test,predictions)\n",
    "# results = pd.DataFrame([[\"Logistic Regression\",score_1],[\"Naive Bayes\",score_2],[\"Decision Tree\",score_3],\n",
    "#                        [\"Random Forest\",score_4],[\"XGBOOST\",score_5],[\"CatBoost\",score_6],[\"LSTM\",score_7]],columns=[\"Model\",\"Accuracy\"])\n",
    "# results"
   ]
  },
  {
   "cell_type": "markdown",
   "id": "sound-establishment",
   "metadata": {
    "papermill": {
     "duration": 0.17424,
     "end_time": "2021-04-24T06:11:25.440377",
     "exception": false,
     "start_time": "2021-04-24T06:11:25.266137",
     "status": "completed"
    },
    "tags": []
   },
   "source": [
    "**Discussion: From the above results, it appears that LSTM Model gives the highest accuracy amongst various models. Therefore, it is selected as the final model for making predictions on final testing data.**"
   ]
  },
  {
   "cell_type": "markdown",
   "id": "0417edba",
   "metadata": {},
   "source": [
    "## RandomizedSearch CV"
   ]
  },
  {
   "cell_type": "markdown",
   "id": "c5f479d2",
   "metadata": {},
   "source": [
    "### Only trying this on RF, CatBoost, XGBoost and Decision Trees"
   ]
  },
  {
   "cell_type": "code",
   "execution_count": null,
   "id": "278b6d05",
   "metadata": {},
   "outputs": [],
   "source": [
    "# Create a hyperparameter grid for RandomForestClassifier\n",
    "rfc_grid = {\"n_estimators\": np.arange(0, 1000, 100),\n",
    "           \"max_depth\": [None, 1, 2, 3, 5],\n",
    "           \"min_samples_split\": np.arange(0, 10, 2),\n",
    "           \"min_samples_leaf\": np.arange(0, 10, 1)}\n",
    "\n",
    "# Create a hyperparameter grid for DecisionTreesClassifier\n",
    "dtc_grid = {\"max_depth\": np.arange(0, 100, 1),\n",
    "           \"min_samples_split\": np.arange(0, 100, 1),\n",
    "           \"min_samples_leaf\": np.arange(0, 100, 1),\n",
    "           \"max_leaf_nodes\": np.arange(0, 100, 1)}\n",
    "\n",
    "# Create a hyperparameter grid for XGBoostClassifier\n",
    "xgb_grid = {\"max_depth\" : np.arange(0, 10, 1),\n",
    "            \"learning_rate\" : [0, 0.01, 0.05, 0.1, 0.15, 0.2],\n",
    "            \"n_estimators\" : np.arange(0, 1000, 50),\n",
    "            \"verbosity\" : [0, 1]}\n",
    "\n",
    "# Create a hyperparameter grid for CatBoostClassifier\n",
    "catb_grid = {'depth'         : [4,5,6,7,8,9,10],\n",
    "             'learning_rate' : [0.01,0.02,0.03,0.04],\n",
    "             'iterations'    : [10, 20,30,40,50,60,70,80,90, 100]}"
   ]
  },
  {
   "cell_type": "code",
   "execution_count": null,
   "id": "6b4bcb5e",
   "metadata": {},
   "outputs": [],
   "source": [
    "# Tune RFC\n",
    "np.random.seed(12)\n",
    "\n",
    "# Setup random hyperparameeter search for RFC\n",
    "rs_rfc = RandomizedSearchCV(RandomForestClassifier(),\n",
    "                                param_distributions=rfc_grid,\n",
    "                                cv=5,\n",
    "                                n_iter=20,\n",
    "                                verbose=True)\n",
    "\n",
    "# Fit random hyperparameter search model for RFC\n",
    "rs_rfc.fit(X_train, Y_train)"
   ]
  },
  {
   "cell_type": "code",
   "execution_count": null,
   "id": "a611fa98",
   "metadata": {},
   "outputs": [],
   "source": [
    "# Find the best hyperparameters\n",
    "rs_rfc.best_params_"
   ]
  },
  {
   "cell_type": "code",
   "execution_count": null,
   "id": "ffb78866",
   "metadata": {},
   "outputs": [],
   "source": [
    "# Best score\n",
    "rs_rfc.score(x_test, y_test)"
   ]
  },
  {
   "cell_type": "code",
   "execution_count": null,
   "id": "13acdd3b",
   "metadata": {},
   "outputs": [],
   "source": [
    "# Setup random seed\n",
    "np.random.seed(24)\n",
    "\n",
    "# Setup random hyperparameter search for DecisionTreeClassifier\n",
    "rs_dtc = RandomizedSearchCV(DecisionTreeClassifier(),\n",
    "                           param_distributions=dtc_grid,\n",
    "                           cv=5,\n",
    "                           n_iter=300,\n",
    "                           verbose=True)\n",
    "\n",
    "# Fit the random hyperparameter search model for DecisionTreeClassifier()\n",
    "rs_dtc.fit(X_train, Y_train)"
   ]
  },
  {
   "cell_type": "code",
   "execution_count": null,
   "id": "10851711",
   "metadata": {},
   "outputs": [],
   "source": [
    "# Find the best hyperparameters\n",
    "rs_dtc.best_params_"
   ]
  },
  {
   "cell_type": "code",
   "execution_count": null,
   "id": "5720a55c",
   "metadata": {},
   "outputs": [],
   "source": [
    "# Best score\n",
    "rs_dtc.score(x_test, y_test)"
   ]
  },
  {
   "cell_type": "code",
   "execution_count": null,
   "id": "05f2220c",
   "metadata": {},
   "outputs": [],
   "source": [
    "# Setup random seed\n",
    "np.random.seed(12)\n",
    "\n",
    "# Setup random hyperparameter search for XGB Classifier\n",
    "rs_xgb = RandomizedSearchCV(XGBClassifier(),\n",
    "                           param_distributions=catb_grid,\n",
    "                           cv=5,\n",
    "                           n_iter=30,\n",
    "                           verbose=True)\n",
    "\n",
    "# Fit the random hyperparameter search model for XGBClassifier()\n",
    "rs_xgb.fit(X_train, Y_train)"
   ]
  },
  {
   "cell_type": "code",
   "execution_count": null,
   "id": "1624ce56",
   "metadata": {},
   "outputs": [],
   "source": [
    "# Find the best hyperparameters\n",
    "rs_xgb.best_params_"
   ]
  },
  {
   "cell_type": "code",
   "execution_count": null,
   "id": "f527e737",
   "metadata": {},
   "outputs": [],
   "source": [
    "# Best score\n",
    "rs_xgb.score(x_test, y_test)"
   ]
  },
  {
   "cell_type": "code",
   "execution_count": null,
   "id": "2d5fa3bd",
   "metadata": {},
   "outputs": [],
   "source": [
    "# Setup random seed\n",
    "np.random.seed(12)\n",
    "\n",
    "# Setup random hyperparameter search for XGB Classifier\n",
    "rs_cbc = RandomizedSearchCV(CatBoostClassifier(),\n",
    "                           param_distributions=catb_grid,\n",
    "                           cv=5,\n",
    "                           n_iter=40,\n",
    "                           verbose=True)\n",
    "\n",
    "# Fit the random hyperparameter search model for XGBClassifier()\n",
    "rs_cbc.fit(X_train, Y_train)"
   ]
  },
  {
   "cell_type": "code",
   "execution_count": null,
   "id": "75f4ca2e",
   "metadata": {},
   "outputs": [],
   "source": [
    "# Find the best hyperparameters\n",
    "rs_cbc.best_params_"
   ]
  },
  {
   "cell_type": "code",
   "execution_count": null,
   "id": "1e6d95d7",
   "metadata": {},
   "outputs": [],
   "source": [
    "# Best score\n",
    "rs_cbc.score(x_test, y_test)"
   ]
  },
  {
   "cell_type": "markdown",
   "id": "455f4fd0",
   "metadata": {},
   "source": [
    "# GridSearchCV"
   ]
  },
  {
   "cell_type": "code",
   "execution_count": null,
   "id": "8e6ccc75",
   "metadata": {},
   "outputs": [],
   "source": [
    "# Different hyperparameters for our RandomForest model\n",
    "rfc_grid = {\"n_estimators\": np.arange(0, 200, 50),\n",
    "           \"max_depth\": [None, 1],\n",
    "           \"min_samples_split\": np.arange(6, 8, 1),\n",
    "           \"min_samples_leaf\": np.arange(0, 2, 1)}\n",
    "\n",
    "# Setup grid hyperparameter search for LogisticRegression\n",
    "gs_rfc = GridSearchCV(RandomForestClassifier(),\n",
    "                      param_grid=rfc_grid,\n",
    "                      cv=5,\n",
    "                      n_jobs=-1,\n",
    "                      verbose=True)\n",
    "\n",
    "# Fit grid hyperparameter search model\n",
    "gs_rfc.fit(X_train, Y_train)"
   ]
  },
  {
   "cell_type": "code",
   "execution_count": null,
   "id": "f486a848",
   "metadata": {},
   "outputs": [],
   "source": [
    "# Check the best hyperparameters\n",
    "gs_rfc.best_params_"
   ]
  },
  {
   "cell_type": "code",
   "execution_count": null,
   "id": "48249920",
   "metadata": {},
   "outputs": [],
   "source": [
    "# Evaluate the grid search LogisticRegression model\n",
    "gs_rfc.score(x_test, y_test)"
   ]
  },
  {
   "cell_type": "code",
   "execution_count": null,
   "id": "54627761",
   "metadata": {},
   "outputs": [],
   "source": [
    "# Different hyperparameters for our RandomForest model\n",
    "dtc_grid =  {'min_samples_split': [4, 5, 6, 7],\n",
    "             'min_samples_leaf': [1, 2, 3],\n",
    "             'max_leaf_nodes': np.arange(95, 100, 1),\n",
    "             'max_depth': np.arange(75, 80, 1)}\n",
    "\n",
    "# Setup grid hyperparameter search for LogisticRegression\n",
    "gs_dtc = GridSearchCV(DecisionTreeClassifier(),\n",
    "                      param_grid=dtc_grid,\n",
    "                      cv=5,\n",
    "                      n_jobs=-1,\n",
    "                      verbose=True)\n",
    "\n",
    "# Fit grid hyperparameter search model\n",
    "gs_dtc.fit(X_train, Y_train)"
   ]
  },
  {
   "cell_type": "code",
   "execution_count": null,
   "id": "1b82379f",
   "metadata": {},
   "outputs": [],
   "source": [
    "# Check the best hyperparameters\n",
    "gs_dtc.best_params_"
   ]
  },
  {
   "cell_type": "code",
   "execution_count": null,
   "id": "caddc54f",
   "metadata": {},
   "outputs": [],
   "source": [
    "# Evaluate the grid search LogisticRegression model\n",
    "gs_dtc.score(x_test, y_test)"
   ]
  },
  {
   "cell_type": "code",
   "execution_count": null,
   "id": "839758a0",
   "metadata": {},
   "outputs": [],
   "source": []
  },
  {
   "cell_type": "code",
   "execution_count": null,
   "id": "5728dc3a",
   "metadata": {},
   "outputs": [],
   "source": []
  },
  {
   "cell_type": "code",
   "execution_count": null,
   "id": "cc7c5abf",
   "metadata": {},
   "outputs": [],
   "source": [
    "# Make predictions with tuned model\n",
    "y_preds = rs_rfc.predict(x_test)"
   ]
  },
  {
   "cell_type": "code",
   "execution_count": null,
   "id": "c7dc74f2",
   "metadata": {},
   "outputs": [],
   "source": [
    "y_preds"
   ]
  },
  {
   "cell_type": "code",
   "execution_count": null,
   "id": "919730ea",
   "metadata": {},
   "outputs": [],
   "source": [
    "len(y_preds)"
   ]
  },
  {
   "cell_type": "code",
   "execution_count": null,
   "id": "9171f0d5",
   "metadata": {},
   "outputs": [],
   "source": [
    "len(x_test)"
   ]
  },
  {
   "cell_type": "code",
   "execution_count": null,
   "id": "28912a1d",
   "metadata": {},
   "outputs": [],
   "source": [
    "import seaborn as sns\n",
    "import matplotlib.pyplot as plt\n",
    "sns.set(font_scale=1.5)\n",
    "\n",
    "def plot_conf_mat(y_test, y_preds):\n",
    "    \n",
    "    fig, ax = plt.subplots(figsize=(8, 8))\n",
    "    ax = sns.heatmap(confusion_matrix(y_test, y_preds),\n",
    "                     annot=True,\n",
    "                     cbar=False)\n",
    "    plt.xlabel(\"True Label\")\n",
    "    plt.ylabel(\"Predicted Label using RFC\")\n",
    "    \n",
    "plot_conf_mat(y_test, y_preds)"
   ]
  },
  {
   "cell_type": "code",
   "execution_count": null,
   "id": "2c0de20b",
   "metadata": {},
   "outputs": [],
   "source": [
    "# Plot ROC curve and calculate AUC metric\n",
    "plot_roc_curve(rs_rfc, x_test, y_test)"
   ]
  }
 ],
 "metadata": {
  "kernelspec": {
   "display_name": "Python 3",
   "language": "python",
   "name": "python3"
  },
  "language_info": {
   "codemirror_mode": {
    "name": "ipython",
    "version": 3
   },
   "file_extension": ".py",
   "mimetype": "text/x-python",
   "name": "python",
   "nbconvert_exporter": "python",
   "pygments_lexer": "ipython3",
   "version": "3.7.10"
  },
  "papermill": {
   "default_parameters": {},
   "duration": 132.042273,
   "end_time": "2021-04-24T06:11:31.046934",
   "environment_variables": {},
   "exception": null,
   "input_path": "__notebook__.ipynb",
   "output_path": "__notebook__.ipynb",
   "parameters": {},
   "start_time": "2021-04-24T06:09:19.004661",
   "version": "2.3.3"
  }
 },
 "nbformat": 4,
 "nbformat_minor": 5
}
